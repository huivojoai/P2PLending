{
 "cells": [
  {
   "cell_type": "code",
   "execution_count": 1,
   "id": "cb1da609",
   "metadata": {},
   "outputs": [],
   "source": [
    "import pandas as pd\n",
    "import numpy as np\n",
    "import random\n",
    "import warnings\n",
    "from datetime import datetime\n",
    "\n",
    "warnings.filterwarnings(\"ignore\")\n",
    "random.seed(51)\n",
    "np.random.seed(51)"
   ]
  },
  {
   "cell_type": "code",
   "execution_count": 2,
   "id": "e8408570",
   "metadata": {},
   "outputs": [],
   "source": [
    "def conv(string):\n",
    "    return float(string.replace(\"%\", \"\"))/100\n",
    "\n",
    "test_loan_list = pd.read_csv(\"../data/test/X_test_y_pred.csv\", \n",
    "                        converters = {'int_rate':conv},\n",
    "                        dtype={'Unnamed: 0.1':'string', 'loan_amnt':'float'})\n",
    "test_loan_list = test_loan_list.rename(columns={'Unnamed: 0.1':'loan_id', 'score':'default_prob'})\n",
    "test_loan_list['loan_status'] = np.where(test_loan_list['loan_status'] == 'Fully Paid', 1, 0)\n",
    "\n",
    "opt_portfolio_list = pd.read_csv(\"..//data//expected_return_porfolios.csv\",\n",
    "                            dtype={'id':'string', 'max_qtty':'string'})\n",
    "opt_portfolio_id = opt_portfolio_list[['max_qtty', 'grade']].drop_duplicates(ignore_index=True)\n",
    "opt_portfolio_id['portfolio_id'] = opt_portfolio_id.index+1\n",
    "opt_portfolio_list = opt_portfolio_list.merge(opt_portfolio_id, left_on=['max_qtty', 'grade'], right_on=['max_qtty', 'grade'])\n",
    "opt_portfolio_list = opt_portfolio_list.rename(columns={'id':'loan_id','grade':'port_grades'})"
   ]
  },
  {
   "cell_type": "code",
   "execution_count": 3,
   "id": "4cc247df-cefc-4c7e-822c-bb833895b56d",
   "metadata": {},
   "outputs": [],
   "source": [
    "opt_port_id_sample = random.sample(list(range(1,len(opt_portfolio_id)+1)), round(len(opt_portfolio_id)))\n",
    "\n",
    "opt_portfolio_sample = opt_portfolio_list[opt_portfolio_list['portfolio_id'].isin(opt_port_id_sample)]\n",
    "opt_portfolio_sample = opt_portfolio_sample.merge(test_loan_list, left_on=['loan_id'], right_on=['loan_id'])\n",
    "\n",
    "opt_portfolio_sample['exp_payment'] = opt_portfolio_sample['loan_amnt'] * pow(1 + opt_portfolio_sample['int_rate']/365, 3*365)\n",
    "del opt_portfolio_sample['int_rate']\n",
    "\n",
    "port_amnt_dict = opt_portfolio_sample.groupby(\"portfolio_id\").agg({\"funded_amnt\": \"sum\"}).to_dict()['funded_amnt']"
   ]
  },
  {
   "cell_type": "code",
   "execution_count": 4,
   "id": "81f74830",
   "metadata": {},
   "outputs": [],
   "source": [
    "opt_portfolio_sample[\"port_amount\"] = opt_portfolio_sample[\"portfolio_id\"].apply(lambda x: port_amnt_dict.get(x))\n",
    "opt_portfolio_sample2 = opt_portfolio_sample[['loan_id', \"portfolio_id\", \"port_amount\", \"max_qtty\", \"port_grades\", \"exp_payment\", \"loan_status\", \"funded_amnt_inv\"]]"
   ]
  },
  {
   "cell_type": "code",
   "execution_count": 5,
   "id": "1cc53836",
   "metadata": {},
   "outputs": [],
   "source": [
    "def diff_month(d1, d2):\n",
    "    return (d1.year - d2.year) * 12 + d1.month - d2.month"
   ]
  },
  {
   "cell_type": "code",
   "execution_count": 6,
   "id": "7b588136",
   "metadata": {},
   "outputs": [],
   "source": [
    "test_loan_list2 = test_loan_list[['loan_id', \"total_pymnt_inv\", \"funded_amnt_inv\", \"issue_d\", \"last_pymnt_d\", \"int_rate\", \"loan_status\"]]\n",
    "test_loan_list2['issue_d'] = test_loan_list2['issue_d'].apply(lambda x: datetime.strptime(x, \"%Y-%m-%d\"))\n",
    "\n",
    "test_loan_list2 = test_loan_list2[test_loan_list2[\"last_pymnt_d\"].apply(lambda x: isinstance(x, float)) == False]\n",
    "test_loan_list2['last_pymnt_d'] = test_loan_list2['last_pymnt_d'].apply(lambda x: datetime.strptime(x, \"%b-%Y\"))\n",
    "\n",
    "test_loan_list2['months_elapsed'] = test_loan_list2[['issue_d', 'last_pymnt_d']].apply(lambda x: diff_month(x[\"last_pymnt_d\"], x[\"issue_d\"]), axis = 1)\n",
    "\n",
    "test_loan_list2['default_count'] = np.where(test_loan_list2['loan_status'] == 1, 0, 1)"
   ]
  },
  {
   "cell_type": "code",
   "execution_count": 7,
   "id": "2be28aad",
   "metadata": {},
   "outputs": [],
   "source": [
    "opt_portfolio_sample_actual = pd.merge(opt_portfolio_sample2, test_loan_list2, how = 'left', left_on = 'loan_id', right_on = 'loan_id')\n",
    "opt_portfolio_sample_actual = opt_portfolio_sample_actual.sort_values(\"portfolio_id\")"
   ]
  },
  {
   "cell_type": "code",
   "execution_count": 8,
   "id": "b042332c",
   "metadata": {},
   "outputs": [],
   "source": [
    "grp_opt_portfolio_sample = opt_portfolio_sample_actual.groupby(['portfolio_id', 'port_amount', 'max_qtty', 'port_grades']).agg(actual_payment = ('total_pymnt_inv', 'sum'),\n",
    "                                                                                                                               expected_payment = ('exp_payment', 'sum'),\n",
    "                                                                                                                               port_avg_int_rate = ('int_rate', 'mean'),\n",
    "                                                                                                                               avg_months_elapsed = ('months_elapsed', 'mean'),\n",
    "                                                                                                                               default_count = ('default_count', 'sum')).round(2).reset_index()\n",
    "\n",
    "grp_opt_portfolio_sample['total_return'] = round((grp_opt_portfolio_sample['actual_payment'] - grp_opt_portfolio_sample['port_amount']) / grp_opt_portfolio_sample['port_amount'], 2)\n",
    "grp_opt_portfolio_sample['return_diff_actual_to_expected'] = grp_opt_portfolio_sample['total_return'] - grp_opt_portfolio_sample['port_avg_int_rate']\n",
    "\n",
    "grp_opt_portfolio_sample['annualized_return'] = round((grp_opt_portfolio_sample['total_return'] * (12/grp_opt_portfolio_sample['avg_months_elapsed'])).apply(lambda x: max(-1, x)), 2)"
   ]
  },
  {
   "cell_type": "code",
   "execution_count": 9,
   "id": "d6bc8caa",
   "metadata": {},
   "outputs": [],
   "source": [
    "all_temp_rand_ports = pd.DataFrame()\n",
    "\n",
    "for i in range(0, len(grp_opt_portfolio_sample)):\n",
    "    temp_port_ir = grp_opt_portfolio_sample.iloc[i]['port_avg_int_rate']\n",
    "    portfolio_id = grp_opt_portfolio_sample.iloc[i]['portfolio_id']\n",
    "    \n",
    "    temp_rand = test_loan_list2[(test_loan_list2['int_rate'] >= temp_port_ir - 0.03) & (test_loan_list2['int_rate'] <= temp_port_ir + 0.03) ]\n",
    "    temp_rand_port = temp_rand.sample(n = 5)\n",
    "    temp_rand_port['rand_port_amt'] = temp_rand_port['funded_amnt_inv'].sum()\n",
    "    temp_rand_port['rand_exp_payment'] = temp_rand_port['funded_amnt_inv'] * pow(1 + temp_rand_port['int_rate']/365, 3*365)\n",
    "    temp_rand_port['portfolio_id'] = portfolio_id\n",
    "    \n",
    "    all_temp_rand_ports = all_temp_rand_ports.append(temp_rand_port)"
   ]
  },
  {
   "cell_type": "code",
   "execution_count": 10,
   "id": "f64b83be",
   "metadata": {},
   "outputs": [],
   "source": [
    "grp_rand_portfolio = all_temp_rand_ports.groupby(['portfolio_id', 'rand_port_amt']).agg(rand_actual_payment = ('total_pymnt_inv', 'sum'),\n",
    "                                                                                        rand_expected_payment = ('rand_exp_payment', 'sum'),\n",
    "                                                                                        rand_avg_int_rate = ('int_rate', 'mean'),\n",
    "                                                                                        rand_avg_months_elapsed = ('months_elapsed', 'mean'),\n",
    "                                                                                        rand_default_count = ('default_count', 'sum')).round(2).reset_index()\n",
    "\n",
    "grp_rand_portfolio['rand_total_return'] = round((grp_rand_portfolio['rand_actual_payment'] - grp_rand_portfolio['rand_port_amt']) / grp_rand_portfolio['rand_port_amt'], 2)\n",
    "grp_rand_portfolio['rand_return_diff'] = grp_rand_portfolio['rand_total_return'] - grp_rand_portfolio['rand_avg_int_rate']\n",
    "\n",
    "grp_rand_portfolio['rand_annualized_return'] = round((grp_rand_portfolio['rand_total_return'] * (12/grp_rand_portfolio['rand_avg_months_elapsed'])).apply(lambda x: max(-1, x)), 2)"
   ]
  },
  {
   "cell_type": "code",
   "execution_count": 11,
   "id": "e564e31f",
   "metadata": {},
   "outputs": [],
   "source": [
    "combined = pd.merge(grp_opt_portfolio_sample, grp_rand_portfolio, how = 'left', left_on = 'portfolio_id', right_on = 'portfolio_id')\n",
    "combined['Better Portfolio'] = np.where(combined['annualized_return'] < combined['rand_annualized_return'], \"Random\", \"Optimized\")"
   ]
  },
  {
   "cell_type": "code",
   "execution_count": 12,
   "id": "ef6518d8",
   "metadata": {},
   "outputs": [],
   "source": [
    "opt_avg_return = str(round(grp_opt_portfolio_sample['total_return'].mean()*100, 2)) + \"%\"\n",
    "opt_avg_months = str(round(grp_opt_portfolio_sample['avg_months_elapsed'].mean(), 2))\n",
    "opt_num_default = str(int(grp_opt_portfolio_sample['default_count'].sum()))\n",
    "opt_avg_annual_return = str(round(grp_opt_portfolio_sample['annualized_return'].mean()*100, 2)) + \"%\"\n",
    "opt_best_port = str(grp_opt_portfolio_sample['annualized_return'].iloc[grp_opt_portfolio_sample['annualized_return'].argmax()]*100) + \"%\" \n",
    "opt_worst_port = str(grp_opt_portfolio_sample['annualized_return'].iloc[grp_opt_portfolio_sample['annualized_return'].argmin()]*100) + \"%\"\n",
    "opt_winning = combined.groupby(\"Better Portfolio\").count()['portfolio_id']['Optimized']\n",
    "opt_sharpe = str(round(grp_opt_portfolio_sample['annualized_return'].mean() / grp_opt_portfolio_sample['annualized_return'].std(), 2))"
   ]
  },
  {
   "cell_type": "code",
   "execution_count": 13,
   "id": "e692fdee",
   "metadata": {},
   "outputs": [],
   "source": [
    "rand_avg_return = str(round(grp_rand_portfolio['rand_total_return'].mean()*100, 2)) + \"%\"\n",
    "rand_avg_months = str(round(grp_rand_portfolio['rand_avg_months_elapsed'].mean(), 2))\n",
    "rand_num_default = str(int(grp_rand_portfolio['rand_default_count'].sum()))\n",
    "rand_avg_annual_return = str(round(grp_rand_portfolio['rand_annualized_return'].mean()*100, 2)) + \"%\"\n",
    "rand_best_port = str(grp_rand_portfolio['rand_annualized_return'].iloc[grp_rand_portfolio['rand_annualized_return'].argmax()]*100) + \"%\" \n",
    "rand_worst_port = str(grp_rand_portfolio['rand_annualized_return'].iloc[grp_rand_portfolio['rand_annualized_return'].argmin()]*100) + \"%\" \n",
    "rand_winning = combined.groupby(\"Better Portfolio\").count()['portfolio_id']['Random']\n",
    "rand_sharpe = str(round(grp_rand_portfolio['rand_annualized_return'].mean() / grp_rand_portfolio['rand_annualized_return'].std(), 2))"
   ]
  },
  {
   "cell_type": "code",
   "execution_count": 14,
   "id": "840351bb",
   "metadata": {},
   "outputs": [
    {
     "data": {
      "text/html": [
       "<div>\n",
       "<style scoped>\n",
       "    .dataframe tbody tr th:only-of-type {\n",
       "        vertical-align: middle;\n",
       "    }\n",
       "\n",
       "    .dataframe tbody tr th {\n",
       "        vertical-align: top;\n",
       "    }\n",
       "\n",
       "    .dataframe thead th {\n",
       "        text-align: right;\n",
       "    }\n",
       "</style>\n",
       "<table border=\"1\" class=\"dataframe\">\n",
       "  <thead>\n",
       "    <tr style=\"text-align: right;\">\n",
       "      <th></th>\n",
       "      <th>Optimized</th>\n",
       "      <th>Random</th>\n",
       "    </tr>\n",
       "  </thead>\n",
       "  <tbody>\n",
       "    <tr>\n",
       "      <th>Average Return</th>\n",
       "      <td>3.75%</td>\n",
       "      <td>-3.07%</td>\n",
       "    </tr>\n",
       "    <tr>\n",
       "      <th>Average Months to Paid/Default</th>\n",
       "      <td>2.54</td>\n",
       "      <td>2.54</td>\n",
       "    </tr>\n",
       "    <tr>\n",
       "      <th># of Defaulted Loans</th>\n",
       "      <td>0</td>\n",
       "      <td>18</td>\n",
       "    </tr>\n",
       "    <tr>\n",
       "      <th>Average Annualized Return</th>\n",
       "      <td>18.35%</td>\n",
       "      <td>-7.45%</td>\n",
       "    </tr>\n",
       "    <tr>\n",
       "      <th>Best Portfolio (Annualized)</th>\n",
       "      <td>38.0%</td>\n",
       "      <td>30.0%</td>\n",
       "    </tr>\n",
       "    <tr>\n",
       "      <th>Worst Portfolio (Annualized)</th>\n",
       "      <td>8.0%</td>\n",
       "      <td>-100.0%</td>\n",
       "    </tr>\n",
       "    <tr>\n",
       "      <th>Outperforming Portfolio Count</th>\n",
       "      <td>44</td>\n",
       "      <td>16</td>\n",
       "    </tr>\n",
       "    <tr>\n",
       "      <th>Sharpe Ratio</th>\n",
       "      <td>2.7</td>\n",
       "      <td>-0.17</td>\n",
       "    </tr>\n",
       "  </tbody>\n",
       "</table>\n",
       "</div>"
      ],
      "text/plain": [
       "                               Optimized   Random\n",
       "Average Return                     3.75%   -3.07%\n",
       "Average Months to Paid/Default      2.54     2.54\n",
       "# of Defaulted Loans                   0       18\n",
       "Average Annualized Return         18.35%   -7.45%\n",
       "Best Portfolio (Annualized)        38.0%    30.0%\n",
       "Worst Portfolio (Annualized)        8.0%  -100.0%\n",
       "Outperforming Portfolio Count         44       16\n",
       "Sharpe Ratio                         2.7    -0.17"
      ]
     },
     "execution_count": 14,
     "metadata": {},
     "output_type": "execute_result"
    }
   ],
   "source": [
    "compare_res = pd.DataFrame()\n",
    "compare_res['Average Return'] = [opt_avg_return, rand_avg_return]\n",
    "compare_res['Average Months to Paid/Default'] = [opt_avg_months, rand_avg_months]\n",
    "compare_res['# of Defaulted Loans'] = [opt_num_default, rand_num_default]\n",
    "compare_res['Average Annualized Return'] = [opt_avg_annual_return, rand_avg_annual_return]\n",
    "compare_res['Best Portfolio (Annualized)'] = [opt_best_port, rand_best_port]\n",
    "compare_res['Worst Portfolio (Annualized)'] = [opt_worst_port, rand_worst_port]\n",
    "compare_res['Outperforming Portfolio Count'] = [opt_winning, rand_winning]\n",
    "compare_res['Sharpe Ratio'] = [opt_sharpe, rand_sharpe]\n",
    "compare_res.index = ['Optimized', 'Random']\n",
    "compare_res.T"
   ]
  }
 ],
 "metadata": {
  "hide_input": false,
  "kernelspec": {
   "display_name": "Python 3 (ipykernel)",
   "language": "python",
   "name": "python3"
  },
  "language_info": {
   "codemirror_mode": {
    "name": "ipython",
    "version": 3
   },
   "file_extension": ".py",
   "mimetype": "text/x-python",
   "name": "python",
   "nbconvert_exporter": "python",
   "pygments_lexer": "ipython3",
   "version": "3.8.13"
  }
 },
 "nbformat": 4,
 "nbformat_minor": 5
}
