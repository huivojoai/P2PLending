{
 "cells": [
  {
   "cell_type": "markdown",
   "id": "a140941e-e7fe-4acb-a237-9a2bd9ca4bec",
   "metadata": {},
   "source": [
    "### This notebook requires scikit-learn 0.23.2"
   ]
  },
  {
   "cell_type": "code",
   "execution_count": 1,
   "id": "84ed59be-695d-4330-94c2-22aac2fe28d5",
   "metadata": {},
   "outputs": [
    {
     "name": "stdout",
     "output_type": "stream",
     "text": [
      "Collecting scikit-learn==0.23.2\n",
      "  Using cached scikit_learn-0.23.2-cp38-cp38-win_amd64.whl (6.8 MB)\n",
      "Requirement already satisfied: threadpoolctl>=2.0.0 in c:\\users\\nick\\anaconda3\\envs\\credit\\lib\\site-packages (from scikit-learn==0.23.2) (3.1.0)\n",
      "Requirement already satisfied: joblib>=0.11 in c:\\users\\nick\\anaconda3\\envs\\credit\\lib\\site-packages (from scikit-learn==0.23.2) (1.1.1)\n",
      "Requirement already satisfied: numpy>=1.13.3 in c:\\users\\nick\\anaconda3\\envs\\credit\\lib\\site-packages (from scikit-learn==0.23.2) (1.23.4)\n",
      "Requirement already satisfied: scipy>=0.19.1 in c:\\users\\nick\\appdata\\roaming\\python\\python38\\site-packages (from scikit-learn==0.23.2) (1.5.4)\n",
      "Installing collected packages: scikit-learn\n",
      "Successfully installed scikit-learn-0.23.2\n"
     ]
    },
    {
     "name": "stderr",
     "output_type": "stream",
     "text": [
      "ERROR: pip's dependency resolver does not currently take into account all the packages that are installed. This behaviour is the source of the following dependency conflicts.\n",
      "yellowbrick 1.5 requires scikit-learn>=1.0.0, but you have scikit-learn 0.23.2 which is incompatible.\n"
     ]
    }
   ],
   "source": [
    "!pip install scikit-learn==0.23.2 --user"
   ]
  },
  {
   "cell_type": "code",
   "execution_count": 2,
   "id": "ab18599d-f1db-4175-96b3-30243b626e01",
   "metadata": {},
   "outputs": [
    {
     "data": {
      "text/plain": [
       "'0.23.2'"
      ]
     },
     "execution_count": 2,
     "metadata": {},
     "output_type": "execute_result"
    }
   ],
   "source": [
    "import sklearn\n",
    "sklearn.__version__"
   ]
  },
  {
   "cell_type": "code",
   "execution_count": 3,
   "id": "d2ecadcd-adec-4ef4-83c7-101b792bb509",
   "metadata": {
    "gather": {
     "logged": 1662260799686
    }
   },
   "outputs": [],
   "source": [
    "import warnings\n",
    "warnings.filterwarnings(\"ignore\")\n",
    "import pandas as pd\n",
    "pd.set_option('display.float_format', lambda x: '%.5f' % x)\n",
    "pd.set_option('display.width', None)\n",
    "pd.set_option('display.max_colwidth', -1)\n",
    "import catboost\n",
    "import numpy as np\n",
    "import gzip\n",
    "import copy\n",
    "import matplotlib.pyplot as plt\n",
    "import seaborn as sns\n",
    "from datetime import datetime\n",
    "from imblearn.over_sampling import SMOTE, ADASYN"
   ]
  },
  {
   "cell_type": "markdown",
   "id": "fe08583d-3625-4189-aa55-923424c5eb6d",
   "metadata": {},
   "source": [
    "### Load dataset & check shape"
   ]
  },
  {
   "cell_type": "code",
   "execution_count": 4,
   "id": "12d394f9-f042-4cbc-b84c-e3baa5c1bf8b",
   "metadata": {
    "gather": {
     "logged": 1662260872044
    }
   },
   "outputs": [],
   "source": [
    "loans = pd.read_csv('../data/Loan_status_2007-2020Q3.gzip', index_col = 0)"
   ]
  },
  {
   "cell_type": "code",
   "execution_count": 5,
   "id": "d7be32ca-f3a5-471d-b2f6-e24248599c1c",
   "metadata": {
    "gather": {
     "logged": 1662260872558
    }
   },
   "outputs": [
    {
     "data": {
      "text/html": [
       "<div>\n",
       "<style scoped>\n",
       "    .dataframe tbody tr th:only-of-type {\n",
       "        vertical-align: middle;\n",
       "    }\n",
       "\n",
       "    .dataframe tbody tr th {\n",
       "        vertical-align: top;\n",
       "    }\n",
       "\n",
       "    .dataframe thead th {\n",
       "        text-align: right;\n",
       "    }\n",
       "</style>\n",
       "<table border=\"1\" class=\"dataframe\">\n",
       "  <thead>\n",
       "    <tr style=\"text-align: right;\">\n",
       "      <th></th>\n",
       "      <th>id</th>\n",
       "      <th>loan_amnt</th>\n",
       "      <th>funded_amnt</th>\n",
       "      <th>funded_amnt_inv</th>\n",
       "      <th>term</th>\n",
       "      <th>int_rate</th>\n",
       "      <th>installment</th>\n",
       "      <th>grade</th>\n",
       "      <th>sub_grade</th>\n",
       "      <th>emp_title</th>\n",
       "      <th>...</th>\n",
       "      <th>hardship_start_date</th>\n",
       "      <th>hardship_end_date</th>\n",
       "      <th>payment_plan_start_date</th>\n",
       "      <th>hardship_length</th>\n",
       "      <th>hardship_dpd</th>\n",
       "      <th>hardship_loan_status</th>\n",
       "      <th>orig_projected_additional_accrued_interest</th>\n",
       "      <th>hardship_payoff_balance_amount</th>\n",
       "      <th>hardship_last_payment_amount</th>\n",
       "      <th>debt_settlement_flag</th>\n",
       "    </tr>\n",
       "  </thead>\n",
       "  <tbody>\n",
       "    <tr>\n",
       "      <th>0</th>\n",
       "      <td>1077501</td>\n",
       "      <td>5000.00000</td>\n",
       "      <td>5000.00000</td>\n",
       "      <td>4975.00000</td>\n",
       "      <td>36 months</td>\n",
       "      <td>10.65%</td>\n",
       "      <td>162.87000</td>\n",
       "      <td>B</td>\n",
       "      <td>B2</td>\n",
       "      <td>NaN</td>\n",
       "      <td>...</td>\n",
       "      <td>NaN</td>\n",
       "      <td>NaN</td>\n",
       "      <td>NaN</td>\n",
       "      <td>NaN</td>\n",
       "      <td>NaN</td>\n",
       "      <td>NaN</td>\n",
       "      <td>NaN</td>\n",
       "      <td>NaN</td>\n",
       "      <td>NaN</td>\n",
       "      <td>N</td>\n",
       "    </tr>\n",
       "    <tr>\n",
       "      <th>1</th>\n",
       "      <td>1077430</td>\n",
       "      <td>2500.00000</td>\n",
       "      <td>2500.00000</td>\n",
       "      <td>2500.00000</td>\n",
       "      <td>60 months</td>\n",
       "      <td>15.27%</td>\n",
       "      <td>59.83000</td>\n",
       "      <td>C</td>\n",
       "      <td>C4</td>\n",
       "      <td>Ryder</td>\n",
       "      <td>...</td>\n",
       "      <td>NaN</td>\n",
       "      <td>NaN</td>\n",
       "      <td>NaN</td>\n",
       "      <td>NaN</td>\n",
       "      <td>NaN</td>\n",
       "      <td>NaN</td>\n",
       "      <td>NaN</td>\n",
       "      <td>NaN</td>\n",
       "      <td>NaN</td>\n",
       "      <td>N</td>\n",
       "    </tr>\n",
       "    <tr>\n",
       "      <th>2</th>\n",
       "      <td>1077175</td>\n",
       "      <td>2400.00000</td>\n",
       "      <td>2400.00000</td>\n",
       "      <td>2400.00000</td>\n",
       "      <td>36 months</td>\n",
       "      <td>15.96%</td>\n",
       "      <td>84.33000</td>\n",
       "      <td>C</td>\n",
       "      <td>C5</td>\n",
       "      <td>NaN</td>\n",
       "      <td>...</td>\n",
       "      <td>NaN</td>\n",
       "      <td>NaN</td>\n",
       "      <td>NaN</td>\n",
       "      <td>NaN</td>\n",
       "      <td>NaN</td>\n",
       "      <td>NaN</td>\n",
       "      <td>NaN</td>\n",
       "      <td>NaN</td>\n",
       "      <td>NaN</td>\n",
       "      <td>N</td>\n",
       "    </tr>\n",
       "    <tr>\n",
       "      <th>3</th>\n",
       "      <td>1076863</td>\n",
       "      <td>10000.00000</td>\n",
       "      <td>10000.00000</td>\n",
       "      <td>10000.00000</td>\n",
       "      <td>36 months</td>\n",
       "      <td>13.49%</td>\n",
       "      <td>339.31000</td>\n",
       "      <td>C</td>\n",
       "      <td>C1</td>\n",
       "      <td>AIR RESOURCES BOARD</td>\n",
       "      <td>...</td>\n",
       "      <td>NaN</td>\n",
       "      <td>NaN</td>\n",
       "      <td>NaN</td>\n",
       "      <td>NaN</td>\n",
       "      <td>NaN</td>\n",
       "      <td>NaN</td>\n",
       "      <td>NaN</td>\n",
       "      <td>NaN</td>\n",
       "      <td>NaN</td>\n",
       "      <td>N</td>\n",
       "    </tr>\n",
       "    <tr>\n",
       "      <th>4</th>\n",
       "      <td>1075358</td>\n",
       "      <td>3000.00000</td>\n",
       "      <td>3000.00000</td>\n",
       "      <td>3000.00000</td>\n",
       "      <td>60 months</td>\n",
       "      <td>12.69%</td>\n",
       "      <td>67.79000</td>\n",
       "      <td>B</td>\n",
       "      <td>B5</td>\n",
       "      <td>University Medical Group</td>\n",
       "      <td>...</td>\n",
       "      <td>NaN</td>\n",
       "      <td>NaN</td>\n",
       "      <td>NaN</td>\n",
       "      <td>NaN</td>\n",
       "      <td>NaN</td>\n",
       "      <td>NaN</td>\n",
       "      <td>NaN</td>\n",
       "      <td>NaN</td>\n",
       "      <td>NaN</td>\n",
       "      <td>N</td>\n",
       "    </tr>\n",
       "  </tbody>\n",
       "</table>\n",
       "<p>5 rows × 141 columns</p>\n",
       "</div>"
      ],
      "text/plain": [
       "        id   loan_amnt  funded_amnt  funded_amnt_inv        term int_rate  \\\n",
       "0  1077501 5000.00000  5000.00000   4975.00000         36 months   10.65%   \n",
       "1  1077430 2500.00000  2500.00000   2500.00000         60 months   15.27%   \n",
       "2  1077175 2400.00000  2400.00000   2400.00000         36 months   15.96%   \n",
       "3  1076863 10000.00000 10000.00000  10000.00000        36 months   13.49%   \n",
       "4  1075358 3000.00000  3000.00000   3000.00000         60 months   12.69%   \n",
       "\n",
       "   installment grade sub_grade                 emp_title  ...  \\\n",
       "0 162.87000     B     B2        NaN                       ...   \n",
       "1 59.83000      C     C4        Ryder                     ...   \n",
       "2 84.33000      C     C5        NaN                       ...   \n",
       "3 339.31000     C     C1        AIR RESOURCES BOARD       ...   \n",
       "4 67.79000      B     B5        University Medical Group  ...   \n",
       "\n",
       "  hardship_start_date hardship_end_date  payment_plan_start_date  \\\n",
       "0  NaN                 NaN               NaN                       \n",
       "1  NaN                 NaN               NaN                       \n",
       "2  NaN                 NaN               NaN                       \n",
       "3  NaN                 NaN               NaN                       \n",
       "4  NaN                 NaN               NaN                       \n",
       "\n",
       "  hardship_length hardship_dpd hardship_loan_status  \\\n",
       "0 NaN             NaN           NaN                   \n",
       "1 NaN             NaN           NaN                   \n",
       "2 NaN             NaN           NaN                   \n",
       "3 NaN             NaN           NaN                   \n",
       "4 NaN             NaN           NaN                   \n",
       "\n",
       "  orig_projected_additional_accrued_interest hardship_payoff_balance_amount  \\\n",
       "0 NaN                                        NaN                              \n",
       "1 NaN                                        NaN                              \n",
       "2 NaN                                        NaN                              \n",
       "3 NaN                                        NaN                              \n",
       "4 NaN                                        NaN                              \n",
       "\n",
       "  hardship_last_payment_amount debt_settlement_flag  \n",
       "0 NaN                           N                    \n",
       "1 NaN                           N                    \n",
       "2 NaN                           N                    \n",
       "3 NaN                           N                    \n",
       "4 NaN                           N                    \n",
       "\n",
       "[5 rows x 141 columns]"
      ]
     },
     "execution_count": 5,
     "metadata": {},
     "output_type": "execute_result"
    }
   ],
   "source": [
    "loans.head()"
   ]
  },
  {
   "cell_type": "code",
   "execution_count": 6,
   "id": "440d2316-5552-4e2b-b28d-e94edb143b11",
   "metadata": {
    "gather": {
     "logged": 1662260872752
    }
   },
   "outputs": [
    {
     "data": {
      "text/plain": [
       "(2925493, 141)"
      ]
     },
     "execution_count": 6,
     "metadata": {},
     "output_type": "execute_result"
    }
   ],
   "source": [
    "loans.shape"
   ]
  },
  {
   "cell_type": "markdown",
   "id": "3cc45b3b-6255-4886-9f5b-09e15e0620c7",
   "metadata": {},
   "source": [
    "### Slice data for more recent loans to reduce scope & runtime"
   ]
  },
  {
   "cell_type": "code",
   "execution_count": 7,
   "id": "652b871b-c7d4-491e-820c-11d3c14d6dfb",
   "metadata": {
    "gather": {
     "logged": 1662260872910
    }
   },
   "outputs": [],
   "source": [
    "def filter_rows(data, date = \"01-01-2018\"):\n",
    "    data['issue_d'] = pd.to_datetime(data['issue_d'])\n",
    "    data = data.sort_values(by = 'issue_d')\n",
    "    data = data[data[\"issue_d\"] > date] \n",
    "    return data"
   ]
  },
  {
   "cell_type": "code",
   "execution_count": 8,
   "id": "f61681f4-722d-42ae-9f91-7c89d56af75f",
   "metadata": {
    "gather": {
     "logged": 1662260876971
    }
   },
   "outputs": [
    {
     "data": {
      "text/plain": [
       "(1123719, 141)"
      ]
     },
     "execution_count": 8,
     "metadata": {},
     "output_type": "execute_result"
    }
   ],
   "source": [
    "loans = filter_rows(loans)\n",
    "loans.shape"
   ]
  },
  {
   "cell_type": "markdown",
   "id": "754f8eed-f3b5-4840-9770-d1cd0a15f567",
   "metadata": {},
   "source": [
    "### Drop Part 1: Drop features that have less than 80% of records (= more than 20% missing)"
   ]
  },
  {
   "cell_type": "code",
   "execution_count": 9,
   "id": "d4bad3eb-9ff2-406b-ab14-4ac7ca08d5b9",
   "metadata": {
    "gather": {
     "logged": 1662260877434
    }
   },
   "outputs": [],
   "source": [
    "def drop_incomplete_features(data, miss_rate_tolerance = 0.7, exceptions = ['annual_inc_joint', 'dti_joint']):\n",
    "    missing_fractions = data.isnull().mean().sort_values(ascending=False)\n",
    "    missing_fractions.head()\n",
    "    plt.close()\n",
    "    plt.figure(figsize=(10,4.3))\n",
    "    missing_fractions.plot.hist(bins=100)\n",
    "    plt.title('Histogram of Feature Incompleteness')\n",
    "    plt.xlabel('Fraction of data missing')\n",
    "    plt.ylabel('Feature count')\n",
    "    plt.axvline(x = miss_rate_tolerance, color = \"r\", linestyle = \"--\", label = \"remove past this line\")\n",
    "    plt.legend()\n",
    "    drop_list = sorted(list(missing_fractions[missing_fractions > miss_rate_tolerance].index)) ##### experiment with 0.25\n",
    "    if exceptions:\n",
    "        drop_list = [x for x in drop_list if x not in exceptions]\n",
    "    print(\"\\n\\n Drop Features: \", len(drop_list))\n",
    "    data.drop(labels=drop_list, axis=1, inplace=True)"
   ]
  },
  {
   "cell_type": "code",
   "execution_count": 10,
   "id": "c9045348-a549-4a13-904f-4046ec9a088e",
   "metadata": {
    "gather": {
     "logged": 1662260882285
    }
   },
   "outputs": [
    {
     "name": "stdout",
     "output_type": "stream",
     "text": [
      "\n",
      "\n",
      " Drop Features:  32\n"
     ]
    },
    {
     "data": {
      "image/png": "[encoded data removed]",
      "text/plain": [
       "<Figure size 1000x430 with 1 Axes>"
      ]
     },
     "metadata": {},
     "output_type": "display_data"
    }
   ],
   "source": [
    "drop_incomplete_features(data = loans, miss_rate_tolerance = 0.3)"
   ]
  },
  {
   "cell_type": "markdown",
   "id": "2f082a97-c2ab-492c-8743-d4ab86a8877f",
   "metadata": {},
   "source": [
    "### Drop Part 2: Drop Columns of Features Not Known Prior to Funding (i.e., lookahead variables)\n",
    "\n",
    "- These are variables that becomes populated after the origination and funding of the loan. In the stage of deciding approval, we cannot use these variables.\n",
    "- Including these information will inflate our test AUC. A potential topic to elaborate on."
   ]
  },
  {
   "cell_type": "code",
   "execution_count": 11,
   "id": "dbdc0bad-033b-4ac7-9ba8-a606915853a1",
   "metadata": {
    "gather": {
     "logged": 1662260882727
    }
   },
   "outputs": [],
   "source": [
    "unknown_prior_to_funding = ['funded_amnt', 'funded_amnt_inv', 'url', \"recoveries\", \"collection_recovery_fee\",\n",
    "               \"total_rec_late_fee\", \"total_rec_int\",\"total_rec_prncp\", \"out_prncp\", \"out_prncp_inv\", \"total_pymnt\",\n",
    "               \"total_pymnt_inv\", \"last_pymnt_amnt\",\"last_pymnt_d\", \"total_rec_late_fee\",\n",
    "               \"pymnt_plan\", \"initial_list_status\", \"policy_code\", 'chargeoff_within_12_mths', \n",
    "               'debt_settlement_flag', \"hardship_flag\", 'nb_of_payments', \"next_pymnt_d\", \n",
    "               \"verification_status\", 'verification_status_joint', 'issue_d']\n",
    "graded = ['loan_amnt', 'term', 'int_rate', 'installment', 'sub_grade', 'grade']"
   ]
  },
  {
   "cell_type": "markdown",
   "id": "202465ef-6680-4e5f-a254-981334a499d5",
   "metadata": {
    "nteract": {
     "transient": {
      "deleting": false
     }
    }
   },
   "source": [
    "### The following variables will not be available for us to ingest at the time of application.\n",
    "- Including the evenntual loan amount - which is determined based on credit policy on \"approved loans\". Will not inform us of default likelihood."
   ]
  },
  {
   "cell_type": "code",
   "execution_count": 12,
   "id": "2d5a4356-3f82-4e86-997d-3c5f3644e625",
   "metadata": {
    "gather": {
     "logged": 1662260882983
    }
   },
   "outputs": [
    {
     "name": "stdout",
     "output_type": "stream",
     "text": [
      "Drop Features:  29\n"
     ]
    },
    {
     "data": {
      "text/plain": [
       "['debt_settlement_flag',\n",
       " 'sub_grade',\n",
       " 'last_pymnt_amnt',\n",
       " 'chargeoff_within_12_mths',\n",
       " 'policy_code',\n",
       " 'installment',\n",
       " 'funded_amnt_inv',\n",
       " 'last_pymnt_d',\n",
       " 'funded_amnt',\n",
       " 'int_rate',\n",
       " 'total_rec_late_fee',\n",
       " 'url',\n",
       " 'initial_list_status',\n",
       " 'next_pymnt_d',\n",
       " 'term',\n",
       " 'recoveries',\n",
       " 'verification_status',\n",
       " 'total_rec_int',\n",
       " 'pymnt_plan',\n",
       " 'collection_recovery_fee',\n",
       " 'out_prncp',\n",
       " 'issue_d',\n",
       " 'total_pymnt_inv',\n",
       " 'grade',\n",
       " 'out_prncp_inv',\n",
       " 'hardship_flag',\n",
       " 'total_pymnt',\n",
       " 'total_rec_prncp',\n",
       " 'loan_amnt']"
      ]
     },
     "execution_count": 12,
     "metadata": {},
     "output_type": "execute_result"
    }
   ],
   "source": [
    "drop_list_2 = list(set(loans.columns) & set(unknown_prior_to_funding + graded))\n",
    "print(\"Drop Features: \", len(drop_list_2))\n",
    "drop_list_2"
   ]
  },
  {
   "cell_type": "code",
   "execution_count": 13,
   "id": "fe99668a-475c-42e1-9915-7661da3318f1",
   "metadata": {
    "gather": {
     "logged": 1662260883215
    }
   },
   "outputs": [],
   "source": [
    "loans.drop(labels=drop_list_2, axis=1, inplace=True)"
   ]
  },
  {
   "cell_type": "markdown",
   "id": "495add2e-a50c-4b6a-95b0-4f565e6412a3",
   "metadata": {},
   "source": [
    "### Drop Part 3: EDA shows almost no correlation, else too specific to be helpful.\n",
    "- annual_inc will be captured\n",
    "- purpose variable can be included. Leaving out for now."
   ]
  },
  {
   "cell_type": "code",
   "execution_count": 14,
   "id": "e90aacae-1da5-4387-aa1d-63f68cf753a2",
   "metadata": {
    "gather": {
     "logged": 1662260883683
    }
   },
   "outputs": [],
   "source": [
    "eda_drop = [\"zip_code\", 'emp_title', 'title', 'purpose']"
   ]
  },
  {
   "cell_type": "code",
   "execution_count": 15,
   "id": "f506dd15-7e5d-4b73-86b3-6cc354290734",
   "metadata": {
    "gather": {
     "logged": 1662260883854
    }
   },
   "outputs": [],
   "source": [
    "loans.drop(eda_drop, axis=1, inplace=True)"
   ]
  },
  {
   "cell_type": "code",
   "execution_count": 16,
   "id": "b8dccb4f-e0f0-4536-8dc7-b8caa9a726f2",
   "metadata": {
    "gather": {
     "logged": 1662260884115
    }
   },
   "outputs": [
    {
     "name": "stdout",
     "output_type": "stream",
     "text": [
      "Drop Features: 5\n"
     ]
    }
   ],
   "source": [
    "print(\"Drop Features: 5\")"
   ]
  },
  {
   "cell_type": "markdown",
   "id": "7c47b9db-cfae-422b-936c-084e8e21908c",
   "metadata": {},
   "source": [
    "### Distribution of Target Variable:  Loan Outcome / Status"
   ]
  },
  {
   "cell_type": "code",
   "execution_count": 17,
   "id": "907185dd-d82f-4ae2-aa6b-a903d5d1fcae",
   "metadata": {
    "gather": {
     "logged": 1662260884625
    }
   },
   "outputs": [
    {
     "data": {
      "text/plain": [
       "Current               842623\n",
       "Fully Paid            201217\n",
       "Charged Off           56399 \n",
       "Late (31-120 days)    11965 \n",
       "In Grace Period       7264  \n",
       "Issued                2062  \n",
       "Late (16-30 days)     2009  \n",
       "Default               180   \n",
       "Name: loan_status, dtype: int64"
      ]
     },
     "execution_count": 17,
     "metadata": {},
     "output_type": "execute_result"
    }
   ],
   "source": [
    "loans['loan_status'].value_counts(dropna=False)"
   ]
  },
  {
   "cell_type": "markdown",
   "id": "05d14d01-6148-4606-bcd6-24396e2e8412",
   "metadata": {},
   "source": [
    "Categories in percentage"
   ]
  },
  {
   "cell_type": "markdown",
   "id": "ef96c682-8d33-4ecd-9e6b-911d24ff8b7c",
   "metadata": {},
   "source": [
    "### Cleaning before autoML experiment -- based on Kaggle EDA\n",
    "\n",
    "- Numerical values that follow lognormal is later scaled with RobustScaler() and transformed using PowerTransformer()\n",
    "- This eventually needs to go \"inside\" the pipeline, if we want to expose endpoint with similar raw input data."
   ]
  },
  {
   "cell_type": "code",
   "execution_count": 18,
   "id": "824cdcda-daa2-4216-9b86-8c65d84b4799",
   "metadata": {
    "gather": {
     "logged": 1662260884836
    }
   },
   "outputs": [],
   "source": [
    "def clean_columns(data):\n",
    "    ### Change label to binary (default ? no default) from loan_status to default by item. Remove all \"Current\"\n",
    "    data['loan_status'] = data['loan_status'].replace(to_replace = ['Late (31-120 days)', 'Default'], value = 'Charged Off')\n",
    "    data = data.loc[data['loan_status'].isin(['Fully Paid', 'Charged Off'])]\n",
    "    data['default'] = (data['loan_status'] == 'Charged Off').apply(np.uint8)\n",
    "    # FICO reports high/low range. Combine by average\n",
    "    data['ficoscore'] = 0.5*data['fico_range_low'] + 0.5*data['fico_range_high']\n",
    "    data.drop(['fico_range_high', 'fico_range_low'], axis=1, inplace=True)\n",
    "    # These are lookahead variables, else redundant.\n",
    "    data.drop(['last_fico_range_high', 'last_fico_range_low'], axis=1, inplace=True)\n",
    "    # Clean percentage scores\n",
    "    data['revol_util'] = data['revol_util'].map(lambda x: str(x).replace('%','')).astype(np.float64)\n",
    "    # Clean string provided by emp_length\n",
    "    data['emp_length'].replace(to_replace='10+ years', value='10 years', inplace=True)\n",
    "    data['emp_length'].replace('< 1 year', '0 years', inplace=True)\n",
    "    data['emp_length'] = data['emp_length'].apply(lambda s: s if pd.isnull(s) else np.int8(s.split()[0]))\n",
    "    # temporary: leave morgage account value as total acc if morgage account is non-negative\n",
    "    total_acc_avg = data.groupby('total_acc').mean()['mort_acc'].fillna(0)\n",
    "    data['mort_acc'] = data.apply(lambda x: total_acc_avg[x['total_acc']] if x['mort_acc'] >=0 else x['mort_acc'], axis=1)\n",
    "    # Home_ownership - non-informative values - collapse into OTHER\n",
    "    data['home_ownership'].replace(['NONE', 'ANY'], 'OTHER', inplace=True)\n",
    "    # Utilize total length of credit history: provide interaction to account for upward mobility \n",
    "    data['last_credit_pull_d'] = pd.to_datetime(data['last_credit_pull_d'])\n",
    "    data['earliest_cr_line'] = pd.to_datetime(data['earliest_cr_line'])\n",
    "    data['time_since_earliest_cr_line'] = (data['last_credit_pull_d'] - data['earliest_cr_line']).dt.days\n",
    "    data.drop(['earliest_cr_line'], axis=1, inplace=True)\n",
    "    return data"
   ]
  },
  {
   "cell_type": "markdown",
   "id": "697f35da-b228-42a5-80cc-1b4e68bc0249",
   "metadata": {
    "nteract": {
     "transient": {
      "deleting": false
     }
    }
   },
   "source": [
    "### Check label distribution"
   ]
  },
  {
   "cell_type": "code",
   "execution_count": 19,
   "id": "e08b38b5-5b29-45e2-826f-13595d72ca0c",
   "metadata": {
    "gather": {
     "logged": 1662260889534
    }
   },
   "outputs": [],
   "source": [
    "loans = clean_columns(loans)\n",
    "loans['loan_status'].value_counts(normalize=True, dropna=False)*100\n",
    "loans.drop('loan_status', axis = 1, inplace = True)"
   ]
  },
  {
   "cell_type": "markdown",
   "id": "5f66e78f-8a7b-4355-ac5c-01970ef4bb11",
   "metadata": {
    "nteract": {
     "transient": {
      "deleting": false
     }
    }
   },
   "source": [
    "### Load Benchmark Testset ID saved in .npy for fair evaluation"
   ]
  },
  {
   "cell_type": "code",
   "execution_count": 20,
   "id": "2b1553c8-9ba2-444b-ab19-09e9c0aed992",
   "metadata": {
    "gather": {
     "logged": 1662260890032
    }
   },
   "outputs": [],
   "source": [
    "test_id = np.load(\"../data/test/lendingclub_testset_id.npy\")\n",
    "test_idx = loans[\"id\"].isin(test_id)\n",
    "test, train = loans[test_idx], loans[~test_idx]\n",
    "train.drop('id', axis = 1, inplace = True)\n",
    "test.drop('id', axis = 1, inplace = True)"
   ]
  },
  {
   "cell_type": "markdown",
   "id": "f9b7bca9-6a5f-463b-a4bd-00a988abfe8d",
   "metadata": {
    "nteract": {
     "transient": {
      "deleting": false
     }
    },
    "tags": []
   },
   "source": [
    "### Pre-Pipeline column/feature list (69 columns)"
   ]
  },
  {
   "cell_type": "code",
   "execution_count": 21,
   "id": "20b53336-0159-4d0d-b3bf-18a3b2f29f1f",
   "metadata": {
    "collapsed": false,
    "gather": {
     "logged": 1662260890308
    },
    "jupyter": {
     "outputs_hidden": false,
     "source_hidden": false
    },
    "nteract": {
     "transient": {
      "deleting": false
     }
    }
   },
   "outputs": [
    {
     "data": {
      "text/plain": [
       "{'acc_now_delinq',\n",
       " 'acc_open_past_24mths',\n",
       " 'addr_state',\n",
       " 'all_util',\n",
       " 'annual_inc',\n",
       " 'annual_inc_joint',\n",
       " 'application_type',\n",
       " 'avg_cur_bal',\n",
       " 'bc_open_to_buy',\n",
       " 'bc_util',\n",
       " 'collections_12_mths_ex_med',\n",
       " 'default',\n",
       " 'delinq_2yrs',\n",
       " 'delinq_amnt',\n",
       " 'dti',\n",
       " 'dti_joint',\n",
       " 'emp_length',\n",
       " 'ficoscore',\n",
       " 'home_ownership',\n",
       " 'il_util',\n",
       " 'inq_fi',\n",
       " 'inq_last_12m',\n",
       " 'inq_last_6mths',\n",
       " 'last_credit_pull_d',\n",
       " 'max_bal_bc',\n",
       " 'mo_sin_old_il_acct',\n",
       " 'mo_sin_old_rev_tl_op',\n",
       " 'mo_sin_rcnt_rev_tl_op',\n",
       " 'mo_sin_rcnt_tl',\n",
       " 'mort_acc',\n",
       " 'mths_since_rcnt_il',\n",
       " 'mths_since_recent_bc',\n",
       " 'mths_since_recent_inq',\n",
       " 'num_accts_ever_120_pd',\n",
       " 'num_actv_bc_tl',\n",
       " 'num_actv_rev_tl',\n",
       " 'num_bc_sats',\n",
       " 'num_bc_tl',\n",
       " 'num_il_tl',\n",
       " 'num_op_rev_tl',\n",
       " 'num_rev_accts',\n",
       " 'num_rev_tl_bal_gt_0',\n",
       " 'num_sats',\n",
       " 'num_tl_120dpd_2m',\n",
       " 'num_tl_30dpd',\n",
       " 'num_tl_90g_dpd_24m',\n",
       " 'num_tl_op_past_12m',\n",
       " 'open_acc',\n",
       " 'open_acc_6m',\n",
       " 'open_act_il',\n",
       " 'open_il_12m',\n",
       " 'open_il_24m',\n",
       " 'open_rv_12m',\n",
       " 'open_rv_24m',\n",
       " 'pct_tl_nvr_dlq',\n",
       " 'percent_bc_gt_75',\n",
       " 'pub_rec',\n",
       " 'pub_rec_bankruptcies',\n",
       " 'revol_bal',\n",
       " 'revol_util',\n",
       " 'tax_liens',\n",
       " 'time_since_earliest_cr_line',\n",
       " 'tot_coll_amt',\n",
       " 'tot_cur_bal',\n",
       " 'tot_hi_cred_lim',\n",
       " 'total_acc',\n",
       " 'total_bal_ex_mort',\n",
       " 'total_bal_il',\n",
       " 'total_bc_limit',\n",
       " 'total_cu_tl',\n",
       " 'total_il_high_credit_limit',\n",
       " 'total_rev_hi_lim'}"
      ]
     },
     "execution_count": 21,
     "metadata": {},
     "output_type": "execute_result"
    }
   ],
   "source": [
    "set(train.columns)"
   ]
  },
  {
   "cell_type": "markdown",
   "id": "67a961a5-bbfb-43b4-b215-9cea76b0103a",
   "metadata": {},
   "source": [
    "### Separate feature types for AutoML"
   ]
  },
  {
   "cell_type": "code",
   "execution_count": 22,
   "id": "1d7efb4a-f9b8-487d-94a0-b853b565582f",
   "metadata": {
    "collapsed": false,
    "gather": {
     "logged": 1662260890556
    },
    "jupyter": {
     "outputs_hidden": false,
     "source_hidden": false
    },
    "nteract": {
     "transient": {
      "deleting": false
     }
    }
   },
   "outputs": [],
   "source": [
    "numeric = set(loans.select_dtypes(include=np.number).columns) - set(['default'])\n",
    "categorical = set(loans.columns) - set(loans.select_dtypes(include=np.number).columns) - set(['id', 'loan_status'])\n",
    "high_categorical = [feature for feature in categorical if loans[feature].nunique() > 10]\n",
    "categorical = categorical - set(high_categorical)\n",
    "numeric, categorical = list(numeric), list(categorical)\n",
    "label = 'default'\n",
    "# numeric, categorical, high_categorical, label"
   ]
  },
  {
   "cell_type": "markdown",
   "id": "a8ffedfb-692a-438f-9f6b-05570a2ae557",
   "metadata": {},
   "source": [
    "### Save raw train/test data for team use"
   ]
  },
  {
   "cell_type": "code",
   "execution_count": 23,
   "id": "d6598054-4368-4f9a-9dde-2d3c78ad2339",
   "metadata": {},
   "outputs": [
    {
     "data": {
      "text/html": [
       "<div>\n",
       "<style scoped>\n",
       "    .dataframe tbody tr th:only-of-type {\n",
       "        vertical-align: middle;\n",
       "    }\n",
       "\n",
       "    .dataframe tbody tr th {\n",
       "        vertical-align: top;\n",
       "    }\n",
       "\n",
       "    .dataframe thead th {\n",
       "        text-align: right;\n",
       "    }\n",
       "</style>\n",
       "<table border=\"1\" class=\"dataframe\">\n",
       "  <thead>\n",
       "    <tr style=\"text-align: right;\">\n",
       "      <th></th>\n",
       "      <th>emp_length</th>\n",
       "      <th>home_ownership</th>\n",
       "      <th>annual_inc</th>\n",
       "      <th>addr_state</th>\n",
       "      <th>dti</th>\n",
       "      <th>delinq_2yrs</th>\n",
       "      <th>inq_last_6mths</th>\n",
       "      <th>open_acc</th>\n",
       "      <th>pub_rec</th>\n",
       "      <th>revol_bal</th>\n",
       "      <th>...</th>\n",
       "      <th>pct_tl_nvr_dlq</th>\n",
       "      <th>percent_bc_gt_75</th>\n",
       "      <th>pub_rec_bankruptcies</th>\n",
       "      <th>tax_liens</th>\n",
       "      <th>tot_hi_cred_lim</th>\n",
       "      <th>total_bal_ex_mort</th>\n",
       "      <th>total_bc_limit</th>\n",
       "      <th>total_il_high_credit_limit</th>\n",
       "      <th>ficoscore</th>\n",
       "      <th>time_since_earliest_cr_line</th>\n",
       "    </tr>\n",
       "  </thead>\n",
       "  <tbody>\n",
       "    <tr>\n",
       "      <th>47856</th>\n",
       "      <td>3.00000</td>\n",
       "      <td>MORTGAGE</td>\n",
       "      <td>31000.00000</td>\n",
       "      <td>UT</td>\n",
       "      <td>30.04000</td>\n",
       "      <td>0.00000</td>\n",
       "      <td>0.00000</td>\n",
       "      <td>6.00000</td>\n",
       "      <td>0.00000</td>\n",
       "      <td>4775.00000</td>\n",
       "      <td>...</td>\n",
       "      <td>100.00000</td>\n",
       "      <td>100.00000</td>\n",
       "      <td>0.00000</td>\n",
       "      <td>0.00000</td>\n",
       "      <td>198277.00000</td>\n",
       "      <td>41191.00000</td>\n",
       "      <td>3800.00000</td>\n",
       "      <td>42562.00000</td>\n",
       "      <td>692.00000</td>\n",
       "      <td>3227.00000</td>\n",
       "    </tr>\n",
       "    <tr>\n",
       "      <th>47857</th>\n",
       "      <td>0.00000</td>\n",
       "      <td>MORTGAGE</td>\n",
       "      <td>135000.00000</td>\n",
       "      <td>GA</td>\n",
       "      <td>1.21000</td>\n",
       "      <td>0.00000</td>\n",
       "      <td>0.00000</td>\n",
       "      <td>9.00000</td>\n",
       "      <td>5.00000</td>\n",
       "      <td>8399.00000</td>\n",
       "      <td>...</td>\n",
       "      <td>100.00000</td>\n",
       "      <td>0.00000</td>\n",
       "      <td>0.00000</td>\n",
       "      <td>5.00000</td>\n",
       "      <td>42400.00000</td>\n",
       "      <td>8399.00000</td>\n",
       "      <td>37200.00000</td>\n",
       "      <td>0.00000</td>\n",
       "      <td>702.00000</td>\n",
       "      <td>5387.00000</td>\n",
       "    </tr>\n",
       "    <tr>\n",
       "      <th>47860</th>\n",
       "      <td>0.00000</td>\n",
       "      <td>RENT</td>\n",
       "      <td>57000.00000</td>\n",
       "      <td>MI</td>\n",
       "      <td>27.54000</td>\n",
       "      <td>0.00000</td>\n",
       "      <td>0.00000</td>\n",
       "      <td>6.00000</td>\n",
       "      <td>0.00000</td>\n",
       "      <td>24896.00000</td>\n",
       "      <td>...</td>\n",
       "      <td>100.00000</td>\n",
       "      <td>100.00000</td>\n",
       "      <td>0.00000</td>\n",
       "      <td>0.00000</td>\n",
       "      <td>50790.00000</td>\n",
       "      <td>41459.00000</td>\n",
       "      <td>27600.00000</td>\n",
       "      <td>23190.00000</td>\n",
       "      <td>707.00000</td>\n",
       "      <td>6118.00000</td>\n",
       "    </tr>\n",
       "    <tr>\n",
       "      <th>47862</th>\n",
       "      <td>4.00000</td>\n",
       "      <td>RENT</td>\n",
       "      <td>28000.00000</td>\n",
       "      <td>NE</td>\n",
       "      <td>23.83000</td>\n",
       "      <td>0.00000</td>\n",
       "      <td>0.00000</td>\n",
       "      <td>8.00000</td>\n",
       "      <td>0.00000</td>\n",
       "      <td>3326.00000</td>\n",
       "      <td>...</td>\n",
       "      <td>90.00000</td>\n",
       "      <td>0.00000</td>\n",
       "      <td>0.00000</td>\n",
       "      <td>0.00000</td>\n",
       "      <td>27369.00000</td>\n",
       "      <td>9838.00000</td>\n",
       "      <td>6100.00000</td>\n",
       "      <td>17269.00000</td>\n",
       "      <td>697.00000</td>\n",
       "      <td>3895.00000</td>\n",
       "    </tr>\n",
       "    <tr>\n",
       "      <th>47879</th>\n",
       "      <td>1.00000</td>\n",
       "      <td>OWN</td>\n",
       "      <td>57000.00000</td>\n",
       "      <td>PA</td>\n",
       "      <td>9.52000</td>\n",
       "      <td>0.00000</td>\n",
       "      <td>1.00000</td>\n",
       "      <td>16.00000</td>\n",
       "      <td>0.00000</td>\n",
       "      <td>1057.00000</td>\n",
       "      <td>...</td>\n",
       "      <td>93.30000</td>\n",
       "      <td>0.00000</td>\n",
       "      <td>0.00000</td>\n",
       "      <td>0.00000</td>\n",
       "      <td>202448.00000</td>\n",
       "      <td>26805.00000</td>\n",
       "      <td>30700.00000</td>\n",
       "      <td>25748.00000</td>\n",
       "      <td>737.00000</td>\n",
       "      <td>5144.00000</td>\n",
       "    </tr>\n",
       "    <tr>\n",
       "      <th>...</th>\n",
       "      <td>...</td>\n",
       "      <td>...</td>\n",
       "      <td>...</td>\n",
       "      <td>...</td>\n",
       "      <td>...</td>\n",
       "      <td>...</td>\n",
       "      <td>...</td>\n",
       "      <td>...</td>\n",
       "      <td>...</td>\n",
       "      <td>...</td>\n",
       "      <td>...</td>\n",
       "      <td>...</td>\n",
       "      <td>...</td>\n",
       "      <td>...</td>\n",
       "      <td>...</td>\n",
       "      <td>...</td>\n",
       "      <td>...</td>\n",
       "      <td>...</td>\n",
       "      <td>...</td>\n",
       "      <td>...</td>\n",
       "      <td>...</td>\n",
       "    </tr>\n",
       "    <tr>\n",
       "      <th>11518</th>\n",
       "      <td>10.00000</td>\n",
       "      <td>OWN</td>\n",
       "      <td>75000.00000</td>\n",
       "      <td>MI</td>\n",
       "      <td>19.54000</td>\n",
       "      <td>0.00000</td>\n",
       "      <td>0.00000</td>\n",
       "      <td>30.00000</td>\n",
       "      <td>0.00000</td>\n",
       "      <td>25666.00000</td>\n",
       "      <td>...</td>\n",
       "      <td>100.00000</td>\n",
       "      <td>36.40000</td>\n",
       "      <td>0.00000</td>\n",
       "      <td>0.00000</td>\n",
       "      <td>328363.00000</td>\n",
       "      <td>82024.00000</td>\n",
       "      <td>28400.00000</td>\n",
       "      <td>65799.00000</td>\n",
       "      <td>717.00000</td>\n",
       "      <td>8979.00000</td>\n",
       "    </tr>\n",
       "    <tr>\n",
       "      <th>10950</th>\n",
       "      <td>4.00000</td>\n",
       "      <td>RENT</td>\n",
       "      <td>51000.00000</td>\n",
       "      <td>SC</td>\n",
       "      <td>12.19000</td>\n",
       "      <td>0.00000</td>\n",
       "      <td>0.00000</td>\n",
       "      <td>5.00000</td>\n",
       "      <td>0.00000</td>\n",
       "      <td>784.00000</td>\n",
       "      <td>...</td>\n",
       "      <td>95.50000</td>\n",
       "      <td>0.00000</td>\n",
       "      <td>0.00000</td>\n",
       "      <td>0.00000</td>\n",
       "      <td>43624.00000</td>\n",
       "      <td>21248.00000</td>\n",
       "      <td>10100.00000</td>\n",
       "      <td>33524.00000</td>\n",
       "      <td>692.00000</td>\n",
       "      <td>3044.00000</td>\n",
       "    </tr>\n",
       "    <tr>\n",
       "      <th>12261</th>\n",
       "      <td>10.00000</td>\n",
       "      <td>MORTGAGE</td>\n",
       "      <td>125000.00000</td>\n",
       "      <td>CA</td>\n",
       "      <td>5.51000</td>\n",
       "      <td>0.00000</td>\n",
       "      <td>0.00000</td>\n",
       "      <td>11.00000</td>\n",
       "      <td>0.00000</td>\n",
       "      <td>2062.00000</td>\n",
       "      <td>...</td>\n",
       "      <td>96.70000</td>\n",
       "      <td>0.00000</td>\n",
       "      <td>0.00000</td>\n",
       "      <td>0.00000</td>\n",
       "      <td>431732.00000</td>\n",
       "      <td>23221.00000</td>\n",
       "      <td>23600.00000</td>\n",
       "      <td>30432.00000</td>\n",
       "      <td>757.00000</td>\n",
       "      <td>5479.00000</td>\n",
       "    </tr>\n",
       "    <tr>\n",
       "      <th>12536</th>\n",
       "      <td>10.00000</td>\n",
       "      <td>MORTGAGE</td>\n",
       "      <td>150000.00000</td>\n",
       "      <td>TX</td>\n",
       "      <td>18.03000</td>\n",
       "      <td>0.00000</td>\n",
       "      <td>0.00000</td>\n",
       "      <td>17.00000</td>\n",
       "      <td>0.00000</td>\n",
       "      <td>85060.00000</td>\n",
       "      <td>...</td>\n",
       "      <td>100.00000</td>\n",
       "      <td>30.00000</td>\n",
       "      <td>0.00000</td>\n",
       "      <td>0.00000</td>\n",
       "      <td>456245.00000</td>\n",
       "      <td>105807.00000</td>\n",
       "      <td>88000.00000</td>\n",
       "      <td>42545.00000</td>\n",
       "      <td>697.00000</td>\n",
       "      <td>6667.00000</td>\n",
       "    </tr>\n",
       "    <tr>\n",
       "      <th>12024</th>\n",
       "      <td>8.00000</td>\n",
       "      <td>MORTGAGE</td>\n",
       "      <td>65000.00000</td>\n",
       "      <td>PA</td>\n",
       "      <td>26.66000</td>\n",
       "      <td>0.00000</td>\n",
       "      <td>0.00000</td>\n",
       "      <td>13.00000</td>\n",
       "      <td>0.00000</td>\n",
       "      <td>52212.00000</td>\n",
       "      <td>...</td>\n",
       "      <td>100.00000</td>\n",
       "      <td>0.00000</td>\n",
       "      <td>0.00000</td>\n",
       "      <td>0.00000</td>\n",
       "      <td>281792.00000</td>\n",
       "      <td>84065.00000</td>\n",
       "      <td>63100.00000</td>\n",
       "      <td>38127.00000</td>\n",
       "      <td>732.00000</td>\n",
       "      <td>4383.00000</td>\n",
       "    </tr>\n",
       "  </tbody>\n",
       "</table>\n",
       "<p>259761 rows × 71 columns</p>\n",
       "</div>"
      ],
      "text/plain": [
       "       emp_length home_ownership   annual_inc addr_state      dti  \\\n",
       "47856 3.00000      MORTGAGE      31000.00000   UT        30.04000   \n",
       "47857 0.00000      MORTGAGE      135000.00000  GA        1.21000    \n",
       "47860 0.00000      RENT          57000.00000   MI        27.54000   \n",
       "47862 4.00000      RENT          28000.00000   NE        23.83000   \n",
       "47879 1.00000      OWN           57000.00000   PA        9.52000    \n",
       "...       ...      ...                   ...   ..            ...    \n",
       "11518 10.00000     OWN           75000.00000   MI        19.54000   \n",
       "10950 4.00000      RENT          51000.00000   SC        12.19000   \n",
       "12261 10.00000     MORTGAGE      125000.00000  CA        5.51000    \n",
       "12536 10.00000     MORTGAGE      150000.00000  TX        18.03000   \n",
       "12024 8.00000      MORTGAGE      65000.00000   PA        26.66000   \n",
       "\n",
       "       delinq_2yrs  inq_last_6mths  open_acc  pub_rec   revol_bal  ...  \\\n",
       "47856 0.00000      0.00000         6.00000   0.00000  4775.00000   ...   \n",
       "47857 0.00000      0.00000         9.00000   5.00000  8399.00000   ...   \n",
       "47860 0.00000      0.00000         6.00000   0.00000  24896.00000  ...   \n",
       "47862 0.00000      0.00000         8.00000   0.00000  3326.00000   ...   \n",
       "47879 0.00000      1.00000         16.00000  0.00000  1057.00000   ...   \n",
       "...       ...          ...              ...      ...         ...   ...   \n",
       "11518 0.00000      0.00000         30.00000  0.00000  25666.00000  ...   \n",
       "10950 0.00000      0.00000         5.00000   0.00000  784.00000    ...   \n",
       "12261 0.00000      0.00000         11.00000  0.00000  2062.00000   ...   \n",
       "12536 0.00000      0.00000         17.00000  0.00000  85060.00000  ...   \n",
       "12024 0.00000      0.00000         13.00000  0.00000  52212.00000  ...   \n",
       "\n",
       "       pct_tl_nvr_dlq  percent_bc_gt_75 pub_rec_bankruptcies  tax_liens  \\\n",
       "47856 100.00000       100.00000         0.00000              0.00000      \n",
       "47857 100.00000       0.00000           0.00000              5.00000      \n",
       "47860 100.00000       100.00000         0.00000              0.00000      \n",
       "47862 90.00000        0.00000           0.00000              0.00000      \n",
       "47879 93.30000        0.00000           0.00000              0.00000      \n",
       "...        ...            ...               ...                  ...      \n",
       "11518 100.00000       36.40000          0.00000              0.00000      \n",
       "10950 95.50000        0.00000           0.00000              0.00000      \n",
       "12261 96.70000        0.00000           0.00000              0.00000      \n",
       "12536 100.00000       30.00000          0.00000              0.00000      \n",
       "12024 100.00000       0.00000           0.00000              0.00000      \n",
       "\n",
       "      tot_hi_cred_lim  total_bal_ex_mort  total_bc_limit  \\\n",
       "47856 198277.00000    41191.00000        3800.00000        \n",
       "47857 42400.00000     8399.00000         37200.00000       \n",
       "47860 50790.00000     41459.00000        27600.00000       \n",
       "47862 27369.00000     9838.00000         6100.00000        \n",
       "47879 202448.00000    26805.00000        30700.00000       \n",
       "...            ...            ...                ...       \n",
       "11518 328363.00000    82024.00000        28400.00000       \n",
       "10950 43624.00000     21248.00000        10100.00000       \n",
       "12261 431732.00000    23221.00000        23600.00000       \n",
       "12536 456245.00000    105807.00000       88000.00000       \n",
       "12024 281792.00000    84065.00000        63100.00000       \n",
       "\n",
       "       total_il_high_credit_limit  ficoscore  time_since_earliest_cr_line  \n",
       "47856 42562.00000                 692.00000  3227.00000                    \n",
       "47857 0.00000                     702.00000  5387.00000                    \n",
       "47860 23190.00000                 707.00000  6118.00000                    \n",
       "47862 17269.00000                 697.00000  3895.00000                    \n",
       "47879 25748.00000                 737.00000  5144.00000                    \n",
       "...           ...                       ...         ...                    \n",
       "11518 65799.00000                 717.00000  8979.00000                    \n",
       "10950 33524.00000                 692.00000  3044.00000                    \n",
       "12261 30432.00000                 757.00000  5479.00000                    \n",
       "12536 42545.00000                 697.00000  6667.00000                    \n",
       "12024 38127.00000                 732.00000  4383.00000                    \n",
       "\n",
       "[259761 rows x 71 columns]"
      ]
     },
     "execution_count": 23,
     "metadata": {},
     "output_type": "execute_result"
    }
   ],
   "source": [
    "# cols = pd.concat([X_train, y_train], axis = 1).columns\n",
    "X_train, y_train = train.drop(label, axis = 1), train[label]\n",
    "X_test, y_test = test.drop(label, axis = 1), test[label]\n",
    "X_train"
   ]
  },
  {
   "cell_type": "markdown",
   "id": "954c655b-86c0-484d-96dc-b3398a5fe9d8",
   "metadata": {},
   "source": [
    "### Check for data imbalance & prepare AdaSYN for upsampling minority class"
   ]
  },
  {
   "cell_type": "code",
   "execution_count": 24,
   "id": "83f70c71-7c05-4f1c-a4c9-4d1f400a26fb",
   "metadata": {
    "collapsed": false,
    "gather": {
     "logged": 1662260901712
    },
    "jupyter": {
     "outputs_hidden": false,
     "source_hidden": false
    },
    "nteract": {
     "transient": {
      "deleting": false
     }
    }
   },
   "outputs": [
    {
     "data": {
      "text/plain": [
       "(array([0, 1], dtype=int8), array([191798,  67963], dtype=int64))"
      ]
     },
     "execution_count": 24,
     "metadata": {},
     "output_type": "execute_result"
    }
   ],
   "source": [
    "np.unique(y_train, return_counts = True)"
   ]
  },
  {
   "cell_type": "code",
   "execution_count": 25,
   "id": "a560bea4-7778-41e1-bdc2-9b0608fe889f",
   "metadata": {
    "gather": {
     "logged": 1662260901960
    }
   },
   "outputs": [],
   "source": [
    "upsampler = ADASYN(sampling_strategy='minority')"
   ]
  },
  {
   "cell_type": "markdown",
   "id": "8d8d2ed3-1566-4c59-9865-b11bf8c6910f",
   "metadata": {
    "nteract": {
     "transient": {
      "deleting": false
     }
    }
   },
   "source": [
    "### Check data examples"
   ]
  },
  {
   "cell_type": "code",
   "execution_count": 26,
   "id": "d0bd76c6-f61e-492c-ab65-efb902e75ae3",
   "metadata": {
    "collapsed": false,
    "gather": {
     "logged": 1662260902186
    },
    "jupyter": {
     "outputs_hidden": false,
     "source_hidden": false
    },
    "nteract": {
     "transient": {
      "deleting": false
     }
    }
   },
   "outputs": [
    {
     "data": {
      "text/html": [
       "<div>\n",
       "<style scoped>\n",
       "    .dataframe tbody tr th:only-of-type {\n",
       "        vertical-align: middle;\n",
       "    }\n",
       "\n",
       "    .dataframe tbody tr th {\n",
       "        vertical-align: top;\n",
       "    }\n",
       "\n",
       "    .dataframe thead th {\n",
       "        text-align: right;\n",
       "    }\n",
       "</style>\n",
       "<table border=\"1\" class=\"dataframe\">\n",
       "  <thead>\n",
       "    <tr style=\"text-align: right;\">\n",
       "      <th></th>\n",
       "      <th>68167</th>\n",
       "      <th>128662</th>\n",
       "      <th>56805</th>\n",
       "    </tr>\n",
       "  </thead>\n",
       "  <tbody>\n",
       "    <tr>\n",
       "      <th>emp_length</th>\n",
       "      <td>2.00000</td>\n",
       "      <td>10.00000</td>\n",
       "      <td>10.00000</td>\n",
       "    </tr>\n",
       "    <tr>\n",
       "      <th>home_ownership</th>\n",
       "      <td>OWN</td>\n",
       "      <td>RENT</td>\n",
       "      <td>RENT</td>\n",
       "    </tr>\n",
       "    <tr>\n",
       "      <th>annual_inc</th>\n",
       "      <td>78000.00000</td>\n",
       "      <td>43000.00000</td>\n",
       "      <td>50000.00000</td>\n",
       "    </tr>\n",
       "    <tr>\n",
       "      <th>addr_state</th>\n",
       "      <td>MI</td>\n",
       "      <td>NY</td>\n",
       "      <td>CA</td>\n",
       "    </tr>\n",
       "    <tr>\n",
       "      <th>dti</th>\n",
       "      <td>23.00000</td>\n",
       "      <td>15.02000</td>\n",
       "      <td>22.56000</td>\n",
       "    </tr>\n",
       "    <tr>\n",
       "      <th>...</th>\n",
       "      <td>...</td>\n",
       "      <td>...</td>\n",
       "      <td>...</td>\n",
       "    </tr>\n",
       "    <tr>\n",
       "      <th>total_bc_limit</th>\n",
       "      <td>53300.00000</td>\n",
       "      <td>5200.00000</td>\n",
       "      <td>14000.00000</td>\n",
       "    </tr>\n",
       "    <tr>\n",
       "      <th>total_il_high_credit_limit</th>\n",
       "      <td>54209.00000</td>\n",
       "      <td>18744.00000</td>\n",
       "      <td>28373.00000</td>\n",
       "    </tr>\n",
       "    <tr>\n",
       "      <th>default</th>\n",
       "      <td>0</td>\n",
       "      <td>0</td>\n",
       "      <td>1</td>\n",
       "    </tr>\n",
       "    <tr>\n",
       "      <th>ficoscore</th>\n",
       "      <td>797.00000</td>\n",
       "      <td>662.00000</td>\n",
       "      <td>677.00000</td>\n",
       "    </tr>\n",
       "    <tr>\n",
       "      <th>time_since_earliest_cr_line</th>\n",
       "      <td>12205.00000</td>\n",
       "      <td>8217.00000</td>\n",
       "      <td>2281.00000</td>\n",
       "    </tr>\n",
       "  </tbody>\n",
       "</table>\n",
       "<p>72 rows × 3 columns</p>\n",
       "</div>"
      ],
      "text/plain": [
       "                                  68167      128662       56805\n",
       "emp_length                  2.00000     10.00000    10.00000   \n",
       "home_ownership               OWN         RENT        RENT      \n",
       "annual_inc                  78000.00000 43000.00000 50000.00000\n",
       "addr_state                   MI          NY          CA        \n",
       "dti                         23.00000    15.02000    22.56000   \n",
       "...                              ...         ...         ...   \n",
       "total_bc_limit              53300.00000 5200.00000  14000.00000\n",
       "total_il_high_credit_limit  54209.00000 18744.00000 28373.00000\n",
       "default                      0           0           1         \n",
       "ficoscore                   797.00000   662.00000   677.00000  \n",
       "time_since_earliest_cr_line 12205.00000 8217.00000  2281.00000 \n",
       "\n",
       "[72 rows x 3 columns]"
      ]
     },
     "execution_count": 26,
     "metadata": {},
     "output_type": "execute_result"
    }
   ],
   "source": [
    "train.sample(n=3).T"
   ]
  },
  {
   "cell_type": "markdown",
   "id": "0c1722ab-24c2-495d-9b79-69f005b9bba5",
   "metadata": {
    "nteract": {
     "transient": {
      "deleting": false
     }
    }
   },
   "source": [
    "### AutoML Experiment: Sample 50,000 train datapoints for quick results - and input test set (10K)\n",
    "- Normalize\n",
    "- Power transform\n",
    "- Impute\n",
    "- encode categorical\n",
    "- feature selection\n",
    "- Fix imbalance\n",
    "- remove outliers"
   ]
  },
  {
   "cell_type": "code",
   "execution_count": 27,
   "id": "fa7dc254-f26e-4fed-8e06-20bd499f66e2",
   "metadata": {},
   "outputs": [],
   "source": [
    "from pycaret.classification import *"
   ]
  },
  {
   "cell_type": "code",
   "execution_count": 28,
   "id": "b1ca6e09-9878-45d0-85ed-c2fb91357f77",
   "metadata": {
    "gather": {
     "logged": 1662260910777
    }
   },
   "outputs": [
    {
     "data": {
      "text/html": [
       "<style type=\"text/css\">\n",
       "#T_6ce3e_row5_col1, #T_6ce3e_row9_col1, #T_6ce3e_row29_col1, #T_6ce3e_row31_col1, #T_6ce3e_row36_col1, #T_6ce3e_row40_col1, #T_6ce3e_row44_col1, #T_6ce3e_row58_col1 {\n",
       "  background-color: lightgreen;\n",
       "}\n",
       "</style>\n",
       "<table id=\"T_6ce3e\">\n",
       "  <thead>\n",
       "    <tr>\n",
       "      <th class=\"blank level0\" >&nbsp;</th>\n",
       "      <th id=\"T_6ce3e_level0_col0\" class=\"col_heading level0 col0\" >Description</th>\n",
       "      <th id=\"T_6ce3e_level0_col1\" class=\"col_heading level0 col1\" >Value</th>\n",
       "    </tr>\n",
       "  </thead>\n",
       "  <tbody>\n",
       "    <tr>\n",
       "      <th id=\"T_6ce3e_level0_row0\" class=\"row_heading level0 row0\" >0</th>\n",
       "      <td id=\"T_6ce3e_row0_col0\" class=\"data row0 col0\" >session_id</td>\n",
       "      <td id=\"T_6ce3e_row0_col1\" class=\"data row0 col1\" >4607</td>\n",
       "    </tr>\n",
       "    <tr>\n",
       "      <th id=\"T_6ce3e_level0_row1\" class=\"row_heading level0 row1\" >1</th>\n",
       "      <td id=\"T_6ce3e_row1_col0\" class=\"data row1 col0\" >Target</td>\n",
       "      <td id=\"T_6ce3e_row1_col1\" class=\"data row1 col1\" >default</td>\n",
       "    </tr>\n",
       "    <tr>\n",
       "      <th id=\"T_6ce3e_level0_row2\" class=\"row_heading level0 row2\" >2</th>\n",
       "      <td id=\"T_6ce3e_row2_col0\" class=\"data row2 col0\" >Target Type</td>\n",
       "      <td id=\"T_6ce3e_row2_col1\" class=\"data row2 col1\" >Binary</td>\n",
       "    </tr>\n",
       "    <tr>\n",
       "      <th id=\"T_6ce3e_level0_row3\" class=\"row_heading level0 row3\" >3</th>\n",
       "      <td id=\"T_6ce3e_row3_col0\" class=\"data row3 col0\" >Label Encoded</td>\n",
       "      <td id=\"T_6ce3e_row3_col1\" class=\"data row3 col1\" >None</td>\n",
       "    </tr>\n",
       "    <tr>\n",
       "      <th id=\"T_6ce3e_level0_row4\" class=\"row_heading level0 row4\" >4</th>\n",
       "      <td id=\"T_6ce3e_row4_col0\" class=\"data row4 col0\" >Original Data</td>\n",
       "      <td id=\"T_6ce3e_row4_col1\" class=\"data row4 col1\" >(50000, 72)</td>\n",
       "    </tr>\n",
       "    <tr>\n",
       "      <th id=\"T_6ce3e_level0_row5\" class=\"row_heading level0 row5\" >5</th>\n",
       "      <td id=\"T_6ce3e_row5_col0\" class=\"data row5 col0\" >Missing Values</td>\n",
       "      <td id=\"T_6ce3e_row5_col1\" class=\"data row5 col1\" >True</td>\n",
       "    </tr>\n",
       "    <tr>\n",
       "      <th id=\"T_6ce3e_level0_row6\" class=\"row_heading level0 row6\" >6</th>\n",
       "      <td id=\"T_6ce3e_row6_col0\" class=\"data row6 col0\" >Numeric Features</td>\n",
       "      <td id=\"T_6ce3e_row6_col1\" class=\"data row6 col1\" >67</td>\n",
       "    </tr>\n",
       "    <tr>\n",
       "      <th id=\"T_6ce3e_level0_row7\" class=\"row_heading level0 row7\" >7</th>\n",
       "      <td id=\"T_6ce3e_row7_col0\" class=\"data row7 col0\" >Categorical Features</td>\n",
       "      <td id=\"T_6ce3e_row7_col1\" class=\"data row7 col1\" >3</td>\n",
       "    </tr>\n",
       "    <tr>\n",
       "      <th id=\"T_6ce3e_level0_row8\" class=\"row_heading level0 row8\" >8</th>\n",
       "      <td id=\"T_6ce3e_row8_col0\" class=\"data row8 col0\" >Ordinal Features</td>\n",
       "      <td id=\"T_6ce3e_row8_col1\" class=\"data row8 col1\" >False</td>\n",
       "    </tr>\n",
       "    <tr>\n",
       "      <th id=\"T_6ce3e_level0_row9\" class=\"row_heading level0 row9\" >9</th>\n",
       "      <td id=\"T_6ce3e_row9_col0\" class=\"data row9 col0\" >High Cardinality Features</td>\n",
       "      <td id=\"T_6ce3e_row9_col1\" class=\"data row9 col1\" >True</td>\n",
       "    </tr>\n",
       "    <tr>\n",
       "      <th id=\"T_6ce3e_level0_row10\" class=\"row_heading level0 row10\" >10</th>\n",
       "      <td id=\"T_6ce3e_row10_col0\" class=\"data row10 col0\" >High Cardinality Method</td>\n",
       "      <td id=\"T_6ce3e_row10_col1\" class=\"data row10 col1\" >frequency</td>\n",
       "    </tr>\n",
       "    <tr>\n",
       "      <th id=\"T_6ce3e_level0_row11\" class=\"row_heading level0 row11\" >11</th>\n",
       "      <td id=\"T_6ce3e_row11_col0\" class=\"data row11 col0\" >Transformed Train Set</td>\n",
       "      <td id=\"T_6ce3e_row11_col1\" class=\"data row11 col1\" >(46989, 60)</td>\n",
       "    </tr>\n",
       "    <tr>\n",
       "      <th id=\"T_6ce3e_level0_row12\" class=\"row_heading level0 row12\" >12</th>\n",
       "      <td id=\"T_6ce3e_row12_col0\" class=\"data row12 col0\" >Transformed Test Set</td>\n",
       "      <td id=\"T_6ce3e_row12_col1\" class=\"data row12 col1\" >(10000, 60)</td>\n",
       "    </tr>\n",
       "    <tr>\n",
       "      <th id=\"T_6ce3e_level0_row13\" class=\"row_heading level0 row13\" >13</th>\n",
       "      <td id=\"T_6ce3e_row13_col0\" class=\"data row13 col0\" >Shuffle Train-Test</td>\n",
       "      <td id=\"T_6ce3e_row13_col1\" class=\"data row13 col1\" >True</td>\n",
       "    </tr>\n",
       "    <tr>\n",
       "      <th id=\"T_6ce3e_level0_row14\" class=\"row_heading level0 row14\" >14</th>\n",
       "      <td id=\"T_6ce3e_row14_col0\" class=\"data row14 col0\" >Stratify Train-Test</td>\n",
       "      <td id=\"T_6ce3e_row14_col1\" class=\"data row14 col1\" >False</td>\n",
       "    </tr>\n",
       "    <tr>\n",
       "      <th id=\"T_6ce3e_level0_row15\" class=\"row_heading level0 row15\" >15</th>\n",
       "      <td id=\"T_6ce3e_row15_col0\" class=\"data row15 col0\" >Fold Generator</td>\n",
       "      <td id=\"T_6ce3e_row15_col1\" class=\"data row15 col1\" >StratifiedKFold</td>\n",
       "    </tr>\n",
       "    <tr>\n",
       "      <th id=\"T_6ce3e_level0_row16\" class=\"row_heading level0 row16\" >16</th>\n",
       "      <td id=\"T_6ce3e_row16_col0\" class=\"data row16 col0\" >Fold Number</td>\n",
       "      <td id=\"T_6ce3e_row16_col1\" class=\"data row16 col1\" >10</td>\n",
       "    </tr>\n",
       "    <tr>\n",
       "      <th id=\"T_6ce3e_level0_row17\" class=\"row_heading level0 row17\" >17</th>\n",
       "      <td id=\"T_6ce3e_row17_col0\" class=\"data row17 col0\" >CPU Jobs</td>\n",
       "      <td id=\"T_6ce3e_row17_col1\" class=\"data row17 col1\" >-1</td>\n",
       "    </tr>\n",
       "    <tr>\n",
       "      <th id=\"T_6ce3e_level0_row18\" class=\"row_heading level0 row18\" >18</th>\n",
       "      <td id=\"T_6ce3e_row18_col0\" class=\"data row18 col0\" >Use GPU</td>\n",
       "      <td id=\"T_6ce3e_row18_col1\" class=\"data row18 col1\" >False</td>\n",
       "    </tr>\n",
       "    <tr>\n",
       "      <th id=\"T_6ce3e_level0_row19\" class=\"row_heading level0 row19\" >19</th>\n",
       "      <td id=\"T_6ce3e_row19_col0\" class=\"data row19 col0\" >Log Experiment</td>\n",
       "      <td id=\"T_6ce3e_row19_col1\" class=\"data row19 col1\" >False</td>\n",
       "    </tr>\n",
       "    <tr>\n",
       "      <th id=\"T_6ce3e_level0_row20\" class=\"row_heading level0 row20\" >20</th>\n",
       "      <td id=\"T_6ce3e_row20_col0\" class=\"data row20 col0\" >Experiment Name</td>\n",
       "      <td id=\"T_6ce3e_row20_col1\" class=\"data row20 col1\" >clf-default-name</td>\n",
       "    </tr>\n",
       "    <tr>\n",
       "      <th id=\"T_6ce3e_level0_row21\" class=\"row_heading level0 row21\" >21</th>\n",
       "      <td id=\"T_6ce3e_row21_col0\" class=\"data row21 col0\" >USI</td>\n",
       "      <td id=\"T_6ce3e_row21_col1\" class=\"data row21 col1\" >df98</td>\n",
       "    </tr>\n",
       "    <tr>\n",
       "      <th id=\"T_6ce3e_level0_row22\" class=\"row_heading level0 row22\" >22</th>\n",
       "      <td id=\"T_6ce3e_row22_col0\" class=\"data row22 col0\" >Imputation Type</td>\n",
       "      <td id=\"T_6ce3e_row22_col1\" class=\"data row22 col1\" >simple</td>\n",
       "    </tr>\n",
       "    <tr>\n",
       "      <th id=\"T_6ce3e_level0_row23\" class=\"row_heading level0 row23\" >23</th>\n",
       "      <td id=\"T_6ce3e_row23_col0\" class=\"data row23 col0\" >Iterative Imputation Iteration</td>\n",
       "      <td id=\"T_6ce3e_row23_col1\" class=\"data row23 col1\" >None</td>\n",
       "    </tr>\n",
       "    <tr>\n",
       "      <th id=\"T_6ce3e_level0_row24\" class=\"row_heading level0 row24\" >24</th>\n",
       "      <td id=\"T_6ce3e_row24_col0\" class=\"data row24 col0\" >Numeric Imputer</td>\n",
       "      <td id=\"T_6ce3e_row24_col1\" class=\"data row24 col1\" >median</td>\n",
       "    </tr>\n",
       "    <tr>\n",
       "      <th id=\"T_6ce3e_level0_row25\" class=\"row_heading level0 row25\" >25</th>\n",
       "      <td id=\"T_6ce3e_row25_col0\" class=\"data row25 col0\" >Iterative Imputation Numeric Model</td>\n",
       "      <td id=\"T_6ce3e_row25_col1\" class=\"data row25 col1\" >None</td>\n",
       "    </tr>\n",
       "    <tr>\n",
       "      <th id=\"T_6ce3e_level0_row26\" class=\"row_heading level0 row26\" >26</th>\n",
       "      <td id=\"T_6ce3e_row26_col0\" class=\"data row26 col0\" >Categorical Imputer</td>\n",
       "      <td id=\"T_6ce3e_row26_col1\" class=\"data row26 col1\" >constant</td>\n",
       "    </tr>\n",
       "    <tr>\n",
       "      <th id=\"T_6ce3e_level0_row27\" class=\"row_heading level0 row27\" >27</th>\n",
       "      <td id=\"T_6ce3e_row27_col0\" class=\"data row27 col0\" >Iterative Imputation Categorical Model</td>\n",
       "      <td id=\"T_6ce3e_row27_col1\" class=\"data row27 col1\" >None</td>\n",
       "    </tr>\n",
       "    <tr>\n",
       "      <th id=\"T_6ce3e_level0_row28\" class=\"row_heading level0 row28\" >28</th>\n",
       "      <td id=\"T_6ce3e_row28_col0\" class=\"data row28 col0\" >Unknown Categoricals Handling</td>\n",
       "      <td id=\"T_6ce3e_row28_col1\" class=\"data row28 col1\" >least_frequent</td>\n",
       "    </tr>\n",
       "    <tr>\n",
       "      <th id=\"T_6ce3e_level0_row29\" class=\"row_heading level0 row29\" >29</th>\n",
       "      <td id=\"T_6ce3e_row29_col0\" class=\"data row29 col0\" >Normalize</td>\n",
       "      <td id=\"T_6ce3e_row29_col1\" class=\"data row29 col1\" >True</td>\n",
       "    </tr>\n",
       "    <tr>\n",
       "      <th id=\"T_6ce3e_level0_row30\" class=\"row_heading level0 row30\" >30</th>\n",
       "      <td id=\"T_6ce3e_row30_col0\" class=\"data row30 col0\" >Normalize Method</td>\n",
       "      <td id=\"T_6ce3e_row30_col1\" class=\"data row30 col1\" >robust</td>\n",
       "    </tr>\n",
       "    <tr>\n",
       "      <th id=\"T_6ce3e_level0_row31\" class=\"row_heading level0 row31\" >31</th>\n",
       "      <td id=\"T_6ce3e_row31_col0\" class=\"data row31 col0\" >Transformation</td>\n",
       "      <td id=\"T_6ce3e_row31_col1\" class=\"data row31 col1\" >True</td>\n",
       "    </tr>\n",
       "    <tr>\n",
       "      <th id=\"T_6ce3e_level0_row32\" class=\"row_heading level0 row32\" >32</th>\n",
       "      <td id=\"T_6ce3e_row32_col0\" class=\"data row32 col0\" >Transformation Method</td>\n",
       "      <td id=\"T_6ce3e_row32_col1\" class=\"data row32 col1\" >yeo-johnson</td>\n",
       "    </tr>\n",
       "    <tr>\n",
       "      <th id=\"T_6ce3e_level0_row33\" class=\"row_heading level0 row33\" >33</th>\n",
       "      <td id=\"T_6ce3e_row33_col0\" class=\"data row33 col0\" >PCA</td>\n",
       "      <td id=\"T_6ce3e_row33_col1\" class=\"data row33 col1\" >False</td>\n",
       "    </tr>\n",
       "    <tr>\n",
       "      <th id=\"T_6ce3e_level0_row34\" class=\"row_heading level0 row34\" >34</th>\n",
       "      <td id=\"T_6ce3e_row34_col0\" class=\"data row34 col0\" >PCA Method</td>\n",
       "      <td id=\"T_6ce3e_row34_col1\" class=\"data row34 col1\" >None</td>\n",
       "    </tr>\n",
       "    <tr>\n",
       "      <th id=\"T_6ce3e_level0_row35\" class=\"row_heading level0 row35\" >35</th>\n",
       "      <td id=\"T_6ce3e_row35_col0\" class=\"data row35 col0\" >PCA Components</td>\n",
       "      <td id=\"T_6ce3e_row35_col1\" class=\"data row35 col1\" >None</td>\n",
       "    </tr>\n",
       "    <tr>\n",
       "      <th id=\"T_6ce3e_level0_row36\" class=\"row_heading level0 row36\" >36</th>\n",
       "      <td id=\"T_6ce3e_row36_col0\" class=\"data row36 col0\" >Ignore Low Variance</td>\n",
       "      <td id=\"T_6ce3e_row36_col1\" class=\"data row36 col1\" >True</td>\n",
       "    </tr>\n",
       "    <tr>\n",
       "      <th id=\"T_6ce3e_level0_row37\" class=\"row_heading level0 row37\" >37</th>\n",
       "      <td id=\"T_6ce3e_row37_col0\" class=\"data row37 col0\" >Combine Rare Levels</td>\n",
       "      <td id=\"T_6ce3e_row37_col1\" class=\"data row37 col1\" >False</td>\n",
       "    </tr>\n",
       "    <tr>\n",
       "      <th id=\"T_6ce3e_level0_row38\" class=\"row_heading level0 row38\" >38</th>\n",
       "      <td id=\"T_6ce3e_row38_col0\" class=\"data row38 col0\" >Rare Level Threshold</td>\n",
       "      <td id=\"T_6ce3e_row38_col1\" class=\"data row38 col1\" >None</td>\n",
       "    </tr>\n",
       "    <tr>\n",
       "      <th id=\"T_6ce3e_level0_row39\" class=\"row_heading level0 row39\" >39</th>\n",
       "      <td id=\"T_6ce3e_row39_col0\" class=\"data row39 col0\" >Numeric Binning</td>\n",
       "      <td id=\"T_6ce3e_row39_col1\" class=\"data row39 col1\" >False</td>\n",
       "    </tr>\n",
       "    <tr>\n",
       "      <th id=\"T_6ce3e_level0_row40\" class=\"row_heading level0 row40\" >40</th>\n",
       "      <td id=\"T_6ce3e_row40_col0\" class=\"data row40 col0\" >Remove Outliers</td>\n",
       "      <td id=\"T_6ce3e_row40_col1\" class=\"data row40 col1\" >True</td>\n",
       "    </tr>\n",
       "    <tr>\n",
       "      <th id=\"T_6ce3e_level0_row41\" class=\"row_heading level0 row41\" >41</th>\n",
       "      <td id=\"T_6ce3e_row41_col0\" class=\"data row41 col0\" >Outliers Threshold</td>\n",
       "      <td id=\"T_6ce3e_row41_col1\" class=\"data row41 col1\" >0.050000</td>\n",
       "    </tr>\n",
       "    <tr>\n",
       "      <th id=\"T_6ce3e_level0_row42\" class=\"row_heading level0 row42\" >42</th>\n",
       "      <td id=\"T_6ce3e_row42_col0\" class=\"data row42 col0\" >Remove Multicollinearity</td>\n",
       "      <td id=\"T_6ce3e_row42_col1\" class=\"data row42 col1\" >False</td>\n",
       "    </tr>\n",
       "    <tr>\n",
       "      <th id=\"T_6ce3e_level0_row43\" class=\"row_heading level0 row43\" >43</th>\n",
       "      <td id=\"T_6ce3e_row43_col0\" class=\"data row43 col0\" >Multicollinearity Threshold</td>\n",
       "      <td id=\"T_6ce3e_row43_col1\" class=\"data row43 col1\" >None</td>\n",
       "    </tr>\n",
       "    <tr>\n",
       "      <th id=\"T_6ce3e_level0_row44\" class=\"row_heading level0 row44\" >44</th>\n",
       "      <td id=\"T_6ce3e_row44_col0\" class=\"data row44 col0\" >Remove Perfect Collinearity</td>\n",
       "      <td id=\"T_6ce3e_row44_col1\" class=\"data row44 col1\" >True</td>\n",
       "    </tr>\n",
       "    <tr>\n",
       "      <th id=\"T_6ce3e_level0_row45\" class=\"row_heading level0 row45\" >45</th>\n",
       "      <td id=\"T_6ce3e_row45_col0\" class=\"data row45 col0\" >Clustering</td>\n",
       "      <td id=\"T_6ce3e_row45_col1\" class=\"data row45 col1\" >False</td>\n",
       "    </tr>\n",
       "    <tr>\n",
       "      <th id=\"T_6ce3e_level0_row46\" class=\"row_heading level0 row46\" >46</th>\n",
       "      <td id=\"T_6ce3e_row46_col0\" class=\"data row46 col0\" >Clustering Iteration</td>\n",
       "      <td id=\"T_6ce3e_row46_col1\" class=\"data row46 col1\" >None</td>\n",
       "    </tr>\n",
       "    <tr>\n",
       "      <th id=\"T_6ce3e_level0_row47\" class=\"row_heading level0 row47\" >47</th>\n",
       "      <td id=\"T_6ce3e_row47_col0\" class=\"data row47 col0\" >Polynomial Features</td>\n",
       "      <td id=\"T_6ce3e_row47_col1\" class=\"data row47 col1\" >False</td>\n",
       "    </tr>\n",
       "    <tr>\n",
       "      <th id=\"T_6ce3e_level0_row48\" class=\"row_heading level0 row48\" >48</th>\n",
       "      <td id=\"T_6ce3e_row48_col0\" class=\"data row48 col0\" >Polynomial Degree</td>\n",
       "      <td id=\"T_6ce3e_row48_col1\" class=\"data row48 col1\" >None</td>\n",
       "    </tr>\n",
       "    <tr>\n",
       "      <th id=\"T_6ce3e_level0_row49\" class=\"row_heading level0 row49\" >49</th>\n",
       "      <td id=\"T_6ce3e_row49_col0\" class=\"data row49 col0\" >Trignometry Features</td>\n",
       "      <td id=\"T_6ce3e_row49_col1\" class=\"data row49 col1\" >False</td>\n",
       "    </tr>\n",
       "    <tr>\n",
       "      <th id=\"T_6ce3e_level0_row50\" class=\"row_heading level0 row50\" >50</th>\n",
       "      <td id=\"T_6ce3e_row50_col0\" class=\"data row50 col0\" >Polynomial Threshold</td>\n",
       "      <td id=\"T_6ce3e_row50_col1\" class=\"data row50 col1\" >None</td>\n",
       "    </tr>\n",
       "    <tr>\n",
       "      <th id=\"T_6ce3e_level0_row51\" class=\"row_heading level0 row51\" >51</th>\n",
       "      <td id=\"T_6ce3e_row51_col0\" class=\"data row51 col0\" >Group Features</td>\n",
       "      <td id=\"T_6ce3e_row51_col1\" class=\"data row51 col1\" >False</td>\n",
       "    </tr>\n",
       "    <tr>\n",
       "      <th id=\"T_6ce3e_level0_row52\" class=\"row_heading level0 row52\" >52</th>\n",
       "      <td id=\"T_6ce3e_row52_col0\" class=\"data row52 col0\" >Feature Selection</td>\n",
       "      <td id=\"T_6ce3e_row52_col1\" class=\"data row52 col1\" >False</td>\n",
       "    </tr>\n",
       "    <tr>\n",
       "      <th id=\"T_6ce3e_level0_row53\" class=\"row_heading level0 row53\" >53</th>\n",
       "      <td id=\"T_6ce3e_row53_col0\" class=\"data row53 col0\" >Feature Selection Method</td>\n",
       "      <td id=\"T_6ce3e_row53_col1\" class=\"data row53 col1\" >boruta</td>\n",
       "    </tr>\n",
       "    <tr>\n",
       "      <th id=\"T_6ce3e_level0_row54\" class=\"row_heading level0 row54\" >54</th>\n",
       "      <td id=\"T_6ce3e_row54_col0\" class=\"data row54 col0\" >Features Selection Threshold</td>\n",
       "      <td id=\"T_6ce3e_row54_col1\" class=\"data row54 col1\" >None</td>\n",
       "    </tr>\n",
       "    <tr>\n",
       "      <th id=\"T_6ce3e_level0_row55\" class=\"row_heading level0 row55\" >55</th>\n",
       "      <td id=\"T_6ce3e_row55_col0\" class=\"data row55 col0\" >Feature Interaction</td>\n",
       "      <td id=\"T_6ce3e_row55_col1\" class=\"data row55 col1\" >False</td>\n",
       "    </tr>\n",
       "    <tr>\n",
       "      <th id=\"T_6ce3e_level0_row56\" class=\"row_heading level0 row56\" >56</th>\n",
       "      <td id=\"T_6ce3e_row56_col0\" class=\"data row56 col0\" >Feature Ratio</td>\n",
       "      <td id=\"T_6ce3e_row56_col1\" class=\"data row56 col1\" >False</td>\n",
       "    </tr>\n",
       "    <tr>\n",
       "      <th id=\"T_6ce3e_level0_row57\" class=\"row_heading level0 row57\" >57</th>\n",
       "      <td id=\"T_6ce3e_row57_col0\" class=\"data row57 col0\" >Interaction Threshold</td>\n",
       "      <td id=\"T_6ce3e_row57_col1\" class=\"data row57 col1\" >None</td>\n",
       "    </tr>\n",
       "    <tr>\n",
       "      <th id=\"T_6ce3e_level0_row58\" class=\"row_heading level0 row58\" >58</th>\n",
       "      <td id=\"T_6ce3e_row58_col0\" class=\"data row58 col0\" >Fix Imbalance</td>\n",
       "      <td id=\"T_6ce3e_row58_col1\" class=\"data row58 col1\" >True</td>\n",
       "    </tr>\n",
       "    <tr>\n",
       "      <th id=\"T_6ce3e_level0_row59\" class=\"row_heading level0 row59\" >59</th>\n",
       "      <td id=\"T_6ce3e_row59_col0\" class=\"data row59 col0\" >Fix Imbalance Method</td>\n",
       "      <td id=\"T_6ce3e_row59_col1\" class=\"data row59 col1\" >ADASYN</td>\n",
       "    </tr>\n",
       "  </tbody>\n",
       "</table>\n"
      ],
      "text/plain": [
       "<pandas.io.formats.style.Styler at 0x296ae5f79a0>"
      ]
     },
     "metadata": {},
     "output_type": "display_data"
    }
   ],
   "source": [
    "exp_name = setup(data = train.tail(n=50000),\n",
    "                 test_data = test,\n",
    "                 fix_imbalance = True,\n",
    "                 normalize = True, \n",
    "                 normalize_method = 'robust',\n",
    "                 transformation = True, \n",
    "                 ignore_low_variance = True,\n",
    "                 remove_outliers = True,\n",
    "                 categorical_features = categorical,\n",
    "                 high_cardinality_features = high_categorical,\n",
    "                 numeric_features = numeric,\n",
    "                 numeric_imputation = 'median',\n",
    "                 feature_selection = False,\n",
    "                 feature_selection_method = \"boruta\",\n",
    "                 feature_selection_threshold = 0.2,\n",
    "                 # feature_interaction = True,\n",
    "                 fix_imbalance_method = upsampler,\n",
    "                 silent = True,\n",
    "                 target = label)"
   ]
  },
  {
   "cell_type": "markdown",
   "id": "3b6fe6dc-d106-46e1-a468-e67842d9186b",
   "metadata": {
    "nteract": {
     "transient": {
      "deleting": false
     }
    }
   },
   "source": [
    "### Check potential of predictability using basic models"
   ]
  },
  {
   "cell_type": "code",
   "execution_count": 29,
   "id": "15211a2e-2b48-4ad7-96f4-e91949f20802",
   "metadata": {
    "collapsed": false,
    "gather": {
     "logged": 1662264837187
    },
    "jupyter": {
     "outputs_hidden": false,
     "source_hidden": false
    },
    "nteract": {
     "transient": {
      "deleting": false
     }
    }
   },
   "outputs": [
    {
     "data": {
      "text/html": [
       "<style type=\"text/css\">\n",
       "#T_f112e th {\n",
       "  text-align: left;\n",
       "}\n",
       "#T_f112e_row0_col0, #T_f112e_row0_col3, #T_f112e_row0_col5, #T_f112e_row0_col6, #T_f112e_row0_col7, #T_f112e_row1_col0, #T_f112e_row1_col1, #T_f112e_row1_col2, #T_f112e_row1_col3, #T_f112e_row1_col4, #T_f112e_row1_col5, #T_f112e_row1_col6, #T_f112e_row1_col7, #T_f112e_row2_col0, #T_f112e_row2_col1, #T_f112e_row2_col2, #T_f112e_row2_col3, #T_f112e_row2_col4, #T_f112e_row2_col5, #T_f112e_row2_col6, #T_f112e_row2_col7, #T_f112e_row3_col0, #T_f112e_row3_col1, #T_f112e_row3_col2, #T_f112e_row3_col3, #T_f112e_row3_col4, #T_f112e_row3_col5, #T_f112e_row3_col7, #T_f112e_row4_col0, #T_f112e_row4_col1, #T_f112e_row4_col2, #T_f112e_row4_col3, #T_f112e_row4_col4, #T_f112e_row4_col6, #T_f112e_row5_col0, #T_f112e_row5_col1, #T_f112e_row5_col2, #T_f112e_row5_col4, #T_f112e_row5_col5, #T_f112e_row5_col6, #T_f112e_row5_col7, #T_f112e_row6_col0, #T_f112e_row6_col1, #T_f112e_row6_col2, #T_f112e_row6_col3, #T_f112e_row6_col4, #T_f112e_row6_col5, #T_f112e_row6_col6, #T_f112e_row6_col7, #T_f112e_row7_col0, #T_f112e_row7_col1, #T_f112e_row7_col2, #T_f112e_row7_col3, #T_f112e_row7_col4, #T_f112e_row7_col5, #T_f112e_row7_col6, #T_f112e_row7_col7 {\n",
       "  text-align: left;\n",
       "}\n",
       "#T_f112e_row0_col1, #T_f112e_row0_col2, #T_f112e_row0_col4, #T_f112e_row3_col6, #T_f112e_row4_col5, #T_f112e_row4_col7, #T_f112e_row5_col3 {\n",
       "  text-align: left;\n",
       "  background-color: yellow;\n",
       "}\n",
       "#T_f112e_row0_col8, #T_f112e_row1_col8, #T_f112e_row2_col8, #T_f112e_row3_col8, #T_f112e_row5_col8, #T_f112e_row6_col8, #T_f112e_row7_col8 {\n",
       "  text-align: left;\n",
       "  background-color: lightgrey;\n",
       "}\n",
       "#T_f112e_row4_col8 {\n",
       "  text-align: left;\n",
       "  background-color: yellow;\n",
       "  background-color: lightgrey;\n",
       "}\n",
       "</style>\n",
       "<table id=\"T_f112e\">\n",
       "  <thead>\n",
       "    <tr>\n",
       "      <th class=\"blank level0\" >&nbsp;</th>\n",
       "      <th id=\"T_f112e_level0_col0\" class=\"col_heading level0 col0\" >Model</th>\n",
       "      <th id=\"T_f112e_level0_col1\" class=\"col_heading level0 col1\" >Accuracy</th>\n",
       "      <th id=\"T_f112e_level0_col2\" class=\"col_heading level0 col2\" >AUC</th>\n",
       "      <th id=\"T_f112e_level0_col3\" class=\"col_heading level0 col3\" >Recall</th>\n",
       "      <th id=\"T_f112e_level0_col4\" class=\"col_heading level0 col4\" >Prec.</th>\n",
       "      <th id=\"T_f112e_level0_col5\" class=\"col_heading level0 col5\" >F1</th>\n",
       "      <th id=\"T_f112e_level0_col6\" class=\"col_heading level0 col6\" >Kappa</th>\n",
       "      <th id=\"T_f112e_level0_col7\" class=\"col_heading level0 col7\" >MCC</th>\n",
       "      <th id=\"T_f112e_level0_col8\" class=\"col_heading level0 col8\" >TT (Sec)</th>\n",
       "    </tr>\n",
       "  </thead>\n",
       "  <tbody>\n",
       "    <tr>\n",
       "      <th id=\"T_f112e_level0_row0\" class=\"row_heading level0 row0\" >catboost</th>\n",
       "      <td id=\"T_f112e_row0_col0\" class=\"data row0 col0\" >CatBoost Classifier</td>\n",
       "      <td id=\"T_f112e_row0_col1\" class=\"data row0 col1\" >0.7811</td>\n",
       "      <td id=\"T_f112e_row0_col2\" class=\"data row0 col2\" >0.8025</td>\n",
       "      <td id=\"T_f112e_row0_col3\" class=\"data row0 col3\" >0.4226</td>\n",
       "      <td id=\"T_f112e_row0_col4\" class=\"data row0 col4\" >0.6034</td>\n",
       "      <td id=\"T_f112e_row0_col5\" class=\"data row0 col5\" >0.4967</td>\n",
       "      <td id=\"T_f112e_row0_col6\" class=\"data row0 col6\" >0.3625</td>\n",
       "      <td id=\"T_f112e_row0_col7\" class=\"data row0 col7\" >0.3721</td>\n",
       "      <td id=\"T_f112e_row0_col8\" class=\"data row0 col8\" >28.9490</td>\n",
       "    </tr>\n",
       "    <tr>\n",
       "      <th id=\"T_f112e_level0_row1\" class=\"row_heading level0 row1\" >lightgbm</th>\n",
       "      <td id=\"T_f112e_row1_col0\" class=\"data row1 col0\" >Light Gradient Boosting Machine</td>\n",
       "      <td id=\"T_f112e_row1_col1\" class=\"data row1 col1\" >0.7788</td>\n",
       "      <td id=\"T_f112e_row1_col2\" class=\"data row1 col2\" >0.8015</td>\n",
       "      <td id=\"T_f112e_row1_col3\" class=\"data row1 col3\" >0.4175</td>\n",
       "      <td id=\"T_f112e_row1_col4\" class=\"data row1 col4\" >0.5972</td>\n",
       "      <td id=\"T_f112e_row1_col5\" class=\"data row1 col5\" >0.4909</td>\n",
       "      <td id=\"T_f112e_row1_col6\" class=\"data row1 col6\" >0.3556</td>\n",
       "      <td id=\"T_f112e_row1_col7\" class=\"data row1 col7\" >0.3650</td>\n",
       "      <td id=\"T_f112e_row1_col8\" class=\"data row1 col8\" >18.7830</td>\n",
       "    </tr>\n",
       "    <tr>\n",
       "      <th id=\"T_f112e_level0_row2\" class=\"row_heading level0 row2\" >xgboost</th>\n",
       "      <td id=\"T_f112e_row2_col0\" class=\"data row2 col0\" >Extreme Gradient Boosting</td>\n",
       "      <td id=\"T_f112e_row2_col1\" class=\"data row2 col1\" >0.7729</td>\n",
       "      <td id=\"T_f112e_row2_col2\" class=\"data row2 col2\" >0.7921</td>\n",
       "      <td id=\"T_f112e_row2_col3\" class=\"data row2 col3\" >0.4156</td>\n",
       "      <td id=\"T_f112e_row2_col4\" class=\"data row2 col4\" >0.5790</td>\n",
       "      <td id=\"T_f112e_row2_col5\" class=\"data row2 col5\" >0.4835</td>\n",
       "      <td id=\"T_f112e_row2_col6\" class=\"data row2 col6\" >0.3431</td>\n",
       "      <td id=\"T_f112e_row2_col7\" class=\"data row2 col7\" >0.3510</td>\n",
       "      <td id=\"T_f112e_row2_col8\" class=\"data row2 col8\" >24.3860</td>\n",
       "    </tr>\n",
       "    <tr>\n",
       "      <th id=\"T_f112e_level0_row3\" class=\"row_heading level0 row3\" >gbc</th>\n",
       "      <td id=\"T_f112e_row3_col0\" class=\"data row3 col0\" >Gradient Boosting Classifier</td>\n",
       "      <td id=\"T_f112e_row3_col1\" class=\"data row3 col1\" >0.7656</td>\n",
       "      <td id=\"T_f112e_row3_col2\" class=\"data row3 col2\" >0.7913</td>\n",
       "      <td id=\"T_f112e_row3_col3\" class=\"data row3 col3\" >0.5118</td>\n",
       "      <td id=\"T_f112e_row3_col4\" class=\"data row3 col4\" >0.5447</td>\n",
       "      <td id=\"T_f112e_row3_col5\" class=\"data row3 col5\" >0.5272</td>\n",
       "      <td id=\"T_f112e_row3_col6\" class=\"data row3 col6\" >0.3718</td>\n",
       "      <td id=\"T_f112e_row3_col7\" class=\"data row3 col7\" >0.3724</td>\n",
       "      <td id=\"T_f112e_row3_col8\" class=\"data row3 col8\" >29.4660</td>\n",
       "    </tr>\n",
       "    <tr>\n",
       "      <th id=\"T_f112e_level0_row4\" class=\"row_heading level0 row4\" >lr</th>\n",
       "      <td id=\"T_f112e_row4_col0\" class=\"data row4 col0\" >Logistic Regression</td>\n",
       "      <td id=\"T_f112e_row4_col1\" class=\"data row4 col1\" >0.7035</td>\n",
       "      <td id=\"T_f112e_row4_col2\" class=\"data row4 col2\" >0.7887</td>\n",
       "      <td id=\"T_f112e_row4_col3\" class=\"data row4 col3\" >0.7546</td>\n",
       "      <td id=\"T_f112e_row4_col4\" class=\"data row4 col4\" >0.4528</td>\n",
       "      <td id=\"T_f112e_row4_col5\" class=\"data row4 col5\" >0.5658</td>\n",
       "      <td id=\"T_f112e_row4_col6\" class=\"data row4 col6\" >0.3613</td>\n",
       "      <td id=\"T_f112e_row4_col7\" class=\"data row4 col7\" >0.3890</td>\n",
       "      <td id=\"T_f112e_row4_col8\" class=\"data row4 col8\" >18.3040</td>\n",
       "    </tr>\n",
       "    <tr>\n",
       "      <th id=\"T_f112e_level0_row5\" class=\"row_heading level0 row5\" >lda</th>\n",
       "      <td id=\"T_f112e_row5_col0\" class=\"data row5 col0\" >Linear Discriminant Analysis</td>\n",
       "      <td id=\"T_f112e_row5_col1\" class=\"data row5 col1\" >0.6960</td>\n",
       "      <td id=\"T_f112e_row5_col2\" class=\"data row5 col2\" >0.7884</td>\n",
       "      <td id=\"T_f112e_row5_col3\" class=\"data row5 col3\" >0.7657</td>\n",
       "      <td id=\"T_f112e_row5_col4\" class=\"data row5 col4\" >0.4456</td>\n",
       "      <td id=\"T_f112e_row5_col5\" class=\"data row5 col5\" >0.5632</td>\n",
       "      <td id=\"T_f112e_row5_col6\" class=\"data row5 col6\" >0.3540</td>\n",
       "      <td id=\"T_f112e_row5_col7\" class=\"data row5 col7\" >0.3851</td>\n",
       "      <td id=\"T_f112e_row5_col8\" class=\"data row5 col8\" >19.0670</td>\n",
       "    </tr>\n",
       "    <tr>\n",
       "      <th id=\"T_f112e_level0_row6\" class=\"row_heading level0 row6\" >et</th>\n",
       "      <td id=\"T_f112e_row6_col0\" class=\"data row6 col0\" >Extra Trees Classifier</td>\n",
       "      <td id=\"T_f112e_row6_col1\" class=\"data row6 col1\" >0.7648</td>\n",
       "      <td id=\"T_f112e_row6_col2\" class=\"data row6 col2\" >0.7838</td>\n",
       "      <td id=\"T_f112e_row6_col3\" class=\"data row6 col3\" >0.4403</td>\n",
       "      <td id=\"T_f112e_row6_col4\" class=\"data row6 col4\" >0.5511</td>\n",
       "      <td id=\"T_f112e_row6_col5\" class=\"data row6 col5\" >0.4892</td>\n",
       "      <td id=\"T_f112e_row6_col6\" class=\"data row6 col6\" >0.3390</td>\n",
       "      <td id=\"T_f112e_row6_col7\" class=\"data row6 col7\" >0.3427</td>\n",
       "      <td id=\"T_f112e_row6_col8\" class=\"data row6 col8\" >20.9320</td>\n",
       "    </tr>\n",
       "    <tr>\n",
       "      <th id=\"T_f112e_level0_row7\" class=\"row_heading level0 row7\" >ada</th>\n",
       "      <td id=\"T_f112e_row7_col0\" class=\"data row7 col0\" >Ada Boost Classifier</td>\n",
       "      <td id=\"T_f112e_row7_col1\" class=\"data row7 col1\" >0.7403</td>\n",
       "      <td id=\"T_f112e_row7_col2\" class=\"data row7 col2\" >0.7784</td>\n",
       "      <td id=\"T_f112e_row7_col3\" class=\"data row7 col3\" >0.6074</td>\n",
       "      <td id=\"T_f112e_row7_col4\" class=\"data row7 col4\" >0.4944</td>\n",
       "      <td id=\"T_f112e_row7_col5\" class=\"data row7 col5\" >0.5448</td>\n",
       "      <td id=\"T_f112e_row7_col6\" class=\"data row7 col6\" >0.3658</td>\n",
       "      <td id=\"T_f112e_row7_col7\" class=\"data row7 col7\" >0.3698</td>\n",
       "      <td id=\"T_f112e_row7_col8\" class=\"data row7 col8\" >20.8090</td>\n",
       "    </tr>\n",
       "  </tbody>\n",
       "</table>\n"
      ],
      "text/plain": [
       "<pandas.io.formats.style.Styler at 0x296b3f145e0>"
      ]
     },
     "metadata": {},
     "output_type": "display_data"
    }
   ],
   "source": [
    "top3 = compare_models(exclude = [\"dummy\",\"svm\",\"ridge\",\"qda\",\"knn\", \"dt\",\"nb\",\"rf\"], sort = \"AUC\", n_select = 3)\n",
    "# top3 = compare_models(include = [\"lr\", \"lda\", \"lightgbm\", \"catboost\",'xgboost'], sort = \"AUC\", n_select = 4, cross_validation = False)"
   ]
  },
  {
   "cell_type": "code",
   "execution_count": 30,
   "id": "201f6297-66be-4b5f-8701-1b2fdb778922",
   "metadata": {
    "collapsed": false,
    "gather": {
     "logged": 1662264840660
    },
    "jupyter": {
     "outputs_hidden": false,
     "source_hidden": false
    },
    "nteract": {
     "transient": {
      "deleting": false
     }
    }
   },
   "outputs": [],
   "source": [
    "pd.concat([get_config('X_train'), get_config('y_train')], axis = 1).to_csv('train_cleaned.csv')\n",
    "pd.concat([get_config('X_test'), get_config('y_test')], axis = 1).to_csv('test_cleaned.csv')"
   ]
  },
  {
   "cell_type": "code",
   "execution_count": 31,
   "id": "6455778d-eb11-45b5-9fe4-718b68ae1619",
   "metadata": {
    "collapsed": false,
    "gather": {
     "logged": 1662268501598
    },
    "jupyter": {
     "outputs_hidden": false,
     "source_hidden": false
    },
    "nteract": {
     "transient": {
      "deleting": false
     }
    }
   },
   "outputs": [
    {
     "data": {
      "text/html": [
       "<style type=\"text/css\">\n",
       "#T_4c73c_row10_col0, #T_4c73c_row10_col1, #T_4c73c_row10_col2, #T_4c73c_row10_col3, #T_4c73c_row10_col4, #T_4c73c_row10_col5, #T_4c73c_row10_col6 {\n",
       "  background: yellow;\n",
       "}\n",
       "</style>\n",
       "<table id=\"T_4c73c\">\n",
       "  <thead>\n",
       "    <tr>\n",
       "      <th class=\"blank level0\" >&nbsp;</th>\n",
       "      <th id=\"T_4c73c_level0_col0\" class=\"col_heading level0 col0\" >Accuracy</th>\n",
       "      <th id=\"T_4c73c_level0_col1\" class=\"col_heading level0 col1\" >AUC</th>\n",
       "      <th id=\"T_4c73c_level0_col2\" class=\"col_heading level0 col2\" >Recall</th>\n",
       "      <th id=\"T_4c73c_level0_col3\" class=\"col_heading level0 col3\" >Prec.</th>\n",
       "      <th id=\"T_4c73c_level0_col4\" class=\"col_heading level0 col4\" >F1</th>\n",
       "      <th id=\"T_4c73c_level0_col5\" class=\"col_heading level0 col5\" >Kappa</th>\n",
       "      <th id=\"T_4c73c_level0_col6\" class=\"col_heading level0 col6\" >MCC</th>\n",
       "    </tr>\n",
       "    <tr>\n",
       "      <th class=\"index_name level0\" >Fold</th>\n",
       "      <th class=\"blank col0\" >&nbsp;</th>\n",
       "      <th class=\"blank col1\" >&nbsp;</th>\n",
       "      <th class=\"blank col2\" >&nbsp;</th>\n",
       "      <th class=\"blank col3\" >&nbsp;</th>\n",
       "      <th class=\"blank col4\" >&nbsp;</th>\n",
       "      <th class=\"blank col5\" >&nbsp;</th>\n",
       "      <th class=\"blank col6\" >&nbsp;</th>\n",
       "    </tr>\n",
       "  </thead>\n",
       "  <tbody>\n",
       "    <tr>\n",
       "      <th id=\"T_4c73c_level0_row0\" class=\"row_heading level0 row0\" >0</th>\n",
       "      <td id=\"T_4c73c_row0_col0\" class=\"data row0 col0\" >0.7604</td>\n",
       "      <td id=\"T_4c73c_row0_col1\" class=\"data row0 col1\" >0.7833</td>\n",
       "      <td id=\"T_4c73c_row0_col2\" class=\"data row0 col2\" >0.5320</td>\n",
       "      <td id=\"T_4c73c_row0_col3\" class=\"data row0 col3\" >0.5328</td>\n",
       "      <td id=\"T_4c73c_row0_col4\" class=\"data row0 col4\" >0.5324</td>\n",
       "      <td id=\"T_4c73c_row0_col5\" class=\"data row0 col5\" >0.3713</td>\n",
       "      <td id=\"T_4c73c_row0_col6\" class=\"data row0 col6\" >0.3713</td>\n",
       "    </tr>\n",
       "    <tr>\n",
       "      <th id=\"T_4c73c_level0_row1\" class=\"row_heading level0 row1\" >1</th>\n",
       "      <td id=\"T_4c73c_row1_col0\" class=\"data row1 col0\" >0.7625</td>\n",
       "      <td id=\"T_4c73c_row1_col1\" class=\"data row1 col1\" >0.7924</td>\n",
       "      <td id=\"T_4c73c_row1_col2\" class=\"data row1 col2\" >0.5253</td>\n",
       "      <td id=\"T_4c73c_row1_col3\" class=\"data row1 col3\" >0.5378</td>\n",
       "      <td id=\"T_4c73c_row1_col4\" class=\"data row1 col4\" >0.5315</td>\n",
       "      <td id=\"T_4c73c_row1_col5\" class=\"data row1 col5\" >0.3725</td>\n",
       "      <td id=\"T_4c73c_row1_col6\" class=\"data row1 col6\" >0.3725</td>\n",
       "    </tr>\n",
       "    <tr>\n",
       "      <th id=\"T_4c73c_level0_row2\" class=\"row_heading level0 row2\" >2</th>\n",
       "      <td id=\"T_4c73c_row2_col0\" class=\"data row2 col0\" >0.7527</td>\n",
       "      <td id=\"T_4c73c_row2_col1\" class=\"data row2 col1\" >0.7854</td>\n",
       "      <td id=\"T_4c73c_row2_col2\" class=\"data row2 col2\" >0.5170</td>\n",
       "      <td id=\"T_4c73c_row2_col3\" class=\"data row2 col3\" >0.5179</td>\n",
       "      <td id=\"T_4c73c_row2_col4\" class=\"data row2 col4\" >0.5174</td>\n",
       "      <td id=\"T_4c73c_row2_col5\" class=\"data row2 col5\" >0.3512</td>\n",
       "      <td id=\"T_4c73c_row2_col6\" class=\"data row2 col6\" >0.3512</td>\n",
       "    </tr>\n",
       "    <tr>\n",
       "      <th id=\"T_4c73c_level0_row3\" class=\"row_heading level0 row3\" >3</th>\n",
       "      <td id=\"T_4c73c_row3_col0\" class=\"data row3 col0\" >0.7651</td>\n",
       "      <td id=\"T_4c73c_row3_col1\" class=\"data row3 col1\" >0.7922</td>\n",
       "      <td id=\"T_4c73c_row3_col2\" class=\"data row3 col2\" >0.5228</td>\n",
       "      <td id=\"T_4c73c_row3_col3\" class=\"data row3 col3\" >0.5436</td>\n",
       "      <td id=\"T_4c73c_row3_col4\" class=\"data row3 col4\" >0.5330</td>\n",
       "      <td id=\"T_4c73c_row3_col5\" class=\"data row3 col5\" >0.3761</td>\n",
       "      <td id=\"T_4c73c_row3_col6\" class=\"data row3 col6\" >0.3762</td>\n",
       "    </tr>\n",
       "    <tr>\n",
       "      <th id=\"T_4c73c_level0_row4\" class=\"row_heading level0 row4\" >4</th>\n",
       "      <td id=\"T_4c73c_row4_col0\" class=\"data row4 col0\" >0.7627</td>\n",
       "      <td id=\"T_4c73c_row4_col1\" class=\"data row4 col1\" >0.7795</td>\n",
       "      <td id=\"T_4c73c_row4_col2\" class=\"data row4 col2\" >0.4863</td>\n",
       "      <td id=\"T_4c73c_row4_col3\" class=\"data row4 col3\" >0.5416</td>\n",
       "      <td id=\"T_4c73c_row4_col4\" class=\"data row4 col4\" >0.5125</td>\n",
       "      <td id=\"T_4c73c_row4_col5\" class=\"data row4 col5\" >0.3563</td>\n",
       "      <td id=\"T_4c73c_row4_col6\" class=\"data row4 col6\" >0.3572</td>\n",
       "    </tr>\n",
       "    <tr>\n",
       "      <th id=\"T_4c73c_level0_row5\" class=\"row_heading level0 row5\" >5</th>\n",
       "      <td id=\"T_4c73c_row5_col0\" class=\"data row5 col0\" >0.7697</td>\n",
       "      <td id=\"T_4c73c_row5_col1\" class=\"data row5 col1\" >0.8006</td>\n",
       "      <td id=\"T_4c73c_row5_col2\" class=\"data row5 col2\" >0.5402</td>\n",
       "      <td id=\"T_4c73c_row5_col3\" class=\"data row5 col3\" >0.5522</td>\n",
       "      <td id=\"T_4c73c_row5_col4\" class=\"data row5 col4\" >0.5461</td>\n",
       "      <td id=\"T_4c73c_row5_col5\" class=\"data row5 col5\" >0.3919</td>\n",
       "      <td id=\"T_4c73c_row5_col6\" class=\"data row5 col6\" >0.3919</td>\n",
       "    </tr>\n",
       "    <tr>\n",
       "      <th id=\"T_4c73c_level0_row6\" class=\"row_heading level0 row6\" >6</th>\n",
       "      <td id=\"T_4c73c_row6_col0\" class=\"data row6 col0\" >0.7668</td>\n",
       "      <td id=\"T_4c73c_row6_col1\" class=\"data row6 col1\" >0.8031</td>\n",
       "      <td id=\"T_4c73c_row6_col2\" class=\"data row6 col2\" >0.5494</td>\n",
       "      <td id=\"T_4c73c_row6_col3\" class=\"data row6 col3\" >0.5449</td>\n",
       "      <td id=\"T_4c73c_row6_col4\" class=\"data row6 col4\" >0.5471</td>\n",
       "      <td id=\"T_4c73c_row6_col5\" class=\"data row6 col5\" >0.3900</td>\n",
       "      <td id=\"T_4c73c_row6_col6\" class=\"data row6 col6\" >0.3901</td>\n",
       "    </tr>\n",
       "    <tr>\n",
       "      <th id=\"T_4c73c_level0_row7\" class=\"row_heading level0 row7\" >7</th>\n",
       "      <td id=\"T_4c73c_row7_col0\" class=\"data row7 col0\" >0.7883</td>\n",
       "      <td id=\"T_4c73c_row7_col1\" class=\"data row7 col1\" >0.8295</td>\n",
       "      <td id=\"T_4c73c_row7_col2\" class=\"data row7 col2\" >0.5776</td>\n",
       "      <td id=\"T_4c73c_row7_col3\" class=\"data row7 col3\" >0.5888</td>\n",
       "      <td id=\"T_4c73c_row7_col4\" class=\"data row7 col4\" >0.5832</td>\n",
       "      <td id=\"T_4c73c_row7_col5\" class=\"data row7 col5\" >0.4413</td>\n",
       "      <td id=\"T_4c73c_row7_col6\" class=\"data row7 col6\" >0.4413</td>\n",
       "    </tr>\n",
       "    <tr>\n",
       "      <th id=\"T_4c73c_level0_row8\" class=\"row_heading level0 row8\" >8</th>\n",
       "      <td id=\"T_4c73c_row8_col0\" class=\"data row8 col0\" >0.7885</td>\n",
       "      <td id=\"T_4c73c_row8_col1\" class=\"data row8 col1\" >0.8359</td>\n",
       "      <td id=\"T_4c73c_row8_col2\" class=\"data row8 col2\" >0.6257</td>\n",
       "      <td id=\"T_4c73c_row8_col3\" class=\"data row8 col3\" >0.5813</td>\n",
       "      <td id=\"T_4c73c_row8_col4\" class=\"data row8 col4\" >0.6027</td>\n",
       "      <td id=\"T_4c73c_row8_col5\" class=\"data row8 col5\" >0.4588</td>\n",
       "      <td id=\"T_4c73c_row8_col6\" class=\"data row8 col6\" >0.4594</td>\n",
       "    </tr>\n",
       "    <tr>\n",
       "      <th id=\"T_4c73c_level0_row9\" class=\"row_heading level0 row9\" >9</th>\n",
       "      <td id=\"T_4c73c_row9_col0\" class=\"data row9 col0\" >0.7948</td>\n",
       "      <td id=\"T_4c73c_row9_col1\" class=\"data row9 col1\" >0.8250</td>\n",
       "      <td id=\"T_4c73c_row9_col2\" class=\"data row9 col2\" >0.6429</td>\n",
       "      <td id=\"T_4c73c_row9_col3\" class=\"data row9 col3\" >0.5917</td>\n",
       "      <td id=\"T_4c73c_row9_col4\" class=\"data row9 col4\" >0.6162</td>\n",
       "      <td id=\"T_4c73c_row9_col5\" class=\"data row9 col5\" >0.4765</td>\n",
       "      <td id=\"T_4c73c_row9_col6\" class=\"data row9 col6\" >0.4773</td>\n",
       "    </tr>\n",
       "    <tr>\n",
       "      <th id=\"T_4c73c_level0_row10\" class=\"row_heading level0 row10\" >Mean</th>\n",
       "      <td id=\"T_4c73c_row10_col0\" class=\"data row10 col0\" >0.7711</td>\n",
       "      <td id=\"T_4c73c_row10_col1\" class=\"data row10 col1\" >0.8027</td>\n",
       "      <td id=\"T_4c73c_row10_col2\" class=\"data row10 col2\" >0.5519</td>\n",
       "      <td id=\"T_4c73c_row10_col3\" class=\"data row10 col3\" >0.5533</td>\n",
       "      <td id=\"T_4c73c_row10_col4\" class=\"data row10 col4\" >0.5522</td>\n",
       "      <td id=\"T_4c73c_row10_col5\" class=\"data row10 col5\" >0.3986</td>\n",
       "      <td id=\"T_4c73c_row10_col6\" class=\"data row10 col6\" >0.3988</td>\n",
       "    </tr>\n",
       "    <tr>\n",
       "      <th id=\"T_4c73c_level0_row11\" class=\"row_heading level0 row11\" >Std</th>\n",
       "      <td id=\"T_4c73c_row11_col0\" class=\"data row11 col0\" >0.0135</td>\n",
       "      <td id=\"T_4c73c_row11_col1\" class=\"data row11 col1\" >0.0194</td>\n",
       "      <td id=\"T_4c73c_row11_col2\" class=\"data row11 col2\" >0.0469</td>\n",
       "      <td id=\"T_4c73c_row11_col3\" class=\"data row11 col3\" >0.0240</td>\n",
       "      <td id=\"T_4c73c_row11_col4\" class=\"data row11 col4\" >0.0341</td>\n",
       "      <td id=\"T_4c73c_row11_col5\" class=\"data row11 col5\" >0.0420</td>\n",
       "      <td id=\"T_4c73c_row11_col6\" class=\"data row11 col6\" >0.0421</td>\n",
       "    </tr>\n",
       "  </tbody>\n",
       "</table>\n"
      ],
      "text/plain": [
       "<pandas.io.formats.style.Styler at 0x295efa4e670>"
      ]
     },
     "metadata": {},
     "output_type": "display_data"
    }
   ],
   "source": [
    "stacker13 = stack_models([top3[0],top3[0], top3[0],top3[0]], optimize = 'AUC')"
   ]
  },
  {
   "cell_type": "code",
   "execution_count": 32,
   "id": "50db76b1-2076-4e0e-afca-521cfe41f05e",
   "metadata": {
    "collapsed": false,
    "gather": {
     "logged": 1662268501909
    },
    "jupyter": {
     "outputs_hidden": false,
     "source_hidden": false
    },
    "nteract": {
     "transient": {
      "deleting": false
     }
    }
   },
   "outputs": [
    {
     "data": {
      "text/plain": [
       "StackingClassifier(cv=5,\n",
       "                   estimators=[('catboost',\n",
       "                                <catboost.core.CatBoostClassifier object at 0x00000296B0343400>),\n",
       "                               ('catboost_1',\n",
       "                                <catboost.core.CatBoostClassifier object at 0x00000296B0343B20>),\n",
       "                               ('catboost_2',\n",
       "                                <catboost.core.CatBoostClassifier object at 0x00000296B0343580>),\n",
       "                               ('catboost_3',\n",
       "                                <catboost.core.CatBoostClassifier object at 0x00000296B03435E0>)],\n",
       "                   final_estimator=LogisticRegression(C=1.0, class_weight=None,\n",
       "                                                      dual=False,\n",
       "                                                      fit_intercept=True,\n",
       "                                                      intercept_scaling=1,\n",
       "                                                      l1_ratio=None,\n",
       "                                                      max_iter=1000,\n",
       "                                                      multi_class='auto',\n",
       "                                                      n_jobs=None, penalty='l2',\n",
       "                                                      random_state=4607,\n",
       "                                                      solver='lbfgs',\n",
       "                                                      tol=0.0001, verbose=0,\n",
       "                                                      warm_start=False),\n",
       "                   n_jobs=-1, passthrough=True, stack_method='auto', verbose=0)"
      ]
     },
     "execution_count": 32,
     "metadata": {},
     "output_type": "execute_result"
    }
   ],
   "source": [
    "stacker13"
   ]
  },
  {
   "cell_type": "code",
   "execution_count": 33,
   "id": "04f06efc-358e-4d2c-a9c8-2cdfdd9ed629",
   "metadata": {
    "collapsed": false,
    "gather": {
     "logged": 1662268502119
    },
    "jupyter": {
     "outputs_hidden": false,
     "source_hidden": false
    },
    "nteract": {
     "transient": {
      "deleting": false
     }
    }
   },
   "outputs": [
    {
     "data": {
      "text/plain": [
       "{'nan_mode': 'Min',\n",
       " 'eval_metric': 'Logloss',\n",
       " 'iterations': 1000,\n",
       " 'sampling_frequency': 'PerTree',\n",
       " 'leaf_estimation_method': 'Newton',\n",
       " 'grow_policy': 'SymmetricTree',\n",
       " 'penalties_coefficient': 1,\n",
       " 'boosting_type': 'Plain',\n",
       " 'model_shrink_mode': 'Constant',\n",
       " 'feature_border_type': 'GreedyLogSum',\n",
       " 'bayesian_matrix_reg': 0.10000000149011612,\n",
       " 'force_unit_auto_pair_weights': False,\n",
       " 'l2_leaf_reg': 3,\n",
       " 'random_strength': 1,\n",
       " 'rsm': 1,\n",
       " 'boost_from_average': False,\n",
       " 'model_size_reg': 0.5,\n",
       " 'pool_metainfo_options': {'tags': {}},\n",
       " 'subsample': 0.800000011920929,\n",
       " 'use_best_model': False,\n",
       " 'class_names': [0, 1],\n",
       " 'random_seed': 4607,\n",
       " 'depth': 6,\n",
       " 'posterior_sampling': False,\n",
       " 'border_count': 254,\n",
       " 'classes_count': 0,\n",
       " 'auto_class_weights': 'None',\n",
       " 'sparse_features_conflict_fraction': 0,\n",
       " 'leaf_estimation_backtracking': 'AnyImprovement',\n",
       " 'best_model_min_trees': 1,\n",
       " 'model_shrink_rate': 0,\n",
       " 'min_data_in_leaf': 1,\n",
       " 'loss_function': 'Logloss',\n",
       " 'learning_rate': 0.06307300180196762,\n",
       " 'score_function': 'Cosine',\n",
       " 'task_type': 'CPU',\n",
       " 'leaf_estimation_iterations': 10,\n",
       " 'bootstrap_type': 'MVS',\n",
       " 'max_leaves': 64}"
      ]
     },
     "execution_count": 33,
     "metadata": {},
     "output_type": "execute_result"
    }
   ],
   "source": [
    "top3[0].get_all_params()"
   ]
  }
 ],
 "metadata": {
  "kernel_info": {
   "name": "python3"
  },
  "kernelspec": {
   "display_name": "Python 3 (ipykernel)",
   "language": "python",
   "name": "python3"
  },
  "language_info": {
   "codemirror_mode": {
    "name": "ipython",
    "version": 3
   },
   "file_extension": ".py",
   "mimetype": "text/x-python",
   "name": "python",
   "nbconvert_exporter": "python",
   "pygments_lexer": "ipython3",
   "version": "3.8.13"
  },
  "microsoft": {
   "host": {
    "AzureML": {
     "notebookHasBeenCompleted": true
    }
   }
  },
  "nteract": {
   "version": "nteract-front-end@1.0.0"
  },
  "vscode": {
   "interpreter": {
    "hash": "84a828a063a2330c46d3780892ffe55707f79e78f85512bb5fa5002a682e6618"
   }
  }
 },
 "nbformat": 4,
 "nbformat_minor": 5
}
