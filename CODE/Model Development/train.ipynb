{
 "cells": [
  {
   "cell_type": "markdown",
   "id": "f5266d8f-515a-423b-9000-10b0e75a4014",
   "metadata": {},
   "source": [
    "### This notebook requires scikit-learn 1.0.2 (ignore error message regarding OSError)"
   ]
  },
  {
   "cell_type": "code",
   "execution_count": 1,
   "id": "32b77e8d-df85-4b6d-8fce-fc15d12c0112",
   "metadata": {},
   "outputs": [
    {
     "name": "stdout",
     "output_type": "stream",
     "text": [
      "Requirement already satisfied: scikit-learn==1.0.2 in c:\\users\\owner\\appdata\\roaming\\python\\python38\\site-packages (1.0.2)\n",
      "Requirement already satisfied: scipy>=1.1.0 in c:\\users\\owner\\anaconda3\\envs\\team14_product_env\\lib\\site-packages (from scikit-learn==1.0.2) (1.9.3)\n",
      "Requirement already satisfied: joblib>=0.11 in c:\\users\\owner\\anaconda3\\envs\\team14_product_env\\lib\\site-packages (from scikit-learn==1.0.2) (1.2.0)\n",
      "Requirement already satisfied: threadpoolctl>=2.0.0 in c:\\users\\owner\\anaconda3\\envs\\team14_product_env\\lib\\site-packages (from scikit-learn==1.0.2) (3.1.0)\n",
      "Requirement already satisfied: numpy>=1.14.6 in c:\\users\\owner\\anaconda3\\envs\\team14_product_env\\lib\\site-packages (from scikit-learn==1.0.2) (1.23.5)\n"
     ]
    }
   ],
   "source": [
    "# Please make sure the current python environment is NOT running any python instances with sklearn imported or this will cause error\n",
    "!pip install scikit-learn==1.0.2 --user"
   ]
  },
  {
   "cell_type": "code",
   "execution_count": 2,
   "id": "70211659-ce55-4d99-a877-c0c9a1aa133f",
   "metadata": {},
   "outputs": [
    {
     "name": "stdout",
     "output_type": "stream",
     "text": [
      "Good to go!\n"
     ]
    }
   ],
   "source": [
    "# Check if 1.0.2 actually installed... if not please re-reun cell 1 \n",
    "import sklearn\n",
    "if sklearn.__version__ != '1.0.2':\n",
    "    print(\"Please re-run cell 1: scikit-learn version still not satisfied - currently {}\".format(sklearn.__version__)) \n",
    "else:\n",
    "    print(\"Good to go!\")"
   ]
  },
  {
   "cell_type": "code",
   "execution_count": 3,
   "id": "5827529a-fffe-4036-90fb-6acacdb03015",
   "metadata": {},
   "outputs": [],
   "source": [
    "import warnings\n",
    "warnings.filterwarnings(\"ignore\")\n",
    "import sys\n",
    "import pickle as pkl\n",
    "sys.path.insert(1, '../src')\n",
    "from creditrisk_pipeline import *\n",
    "import pandas as pd\n",
    "pd.set_option('display.max_rows', None) \n",
    "import matplotlib.pyplot as plt\n",
    "import time\n",
    "import yaml"
   ]
  },
  {
   "cell_type": "markdown",
   "id": "2162f63c-4ce7-4010-8dea-a6c826763926",
   "metadata": {},
   "source": [
    "### Load model class and data sorted by issue date"
   ]
  },
  {
   "cell_type": "code",
   "execution_count": 4,
   "id": "1a44f470-8548-4b44-89f5-633b6f63906b",
   "metadata": {},
   "outputs": [],
   "source": [
    "cr = CreditRiskModel(model_config_path = \"../config/creditrisk_config.yaml\")"
   ]
  },
  {
   "cell_type": "code",
   "execution_count": 5,
   "id": "768945e0",
   "metadata": {},
   "outputs": [],
   "source": [
    "config = yaml.safe_load(open('../config/creditrisk_config.yaml'))"
   ]
  },
  {
   "cell_type": "code",
   "execution_count": 6,
   "id": "8dd116f7-17c6-4dc3-b532-bb6531f1c5d1",
   "metadata": {},
   "outputs": [
    {
     "name": "stdout",
     "output_type": "stream",
     "text": [
      "Fully Paid     863756\n",
      "Charged Off    170660\n",
      "Name: loan_status, dtype: int64\n"
     ]
    }
   ],
   "source": [
    "loans = cr.load_data_from_csv(earliest_issue_date = '2015-01-01')"
   ]
  },
  {
   "cell_type": "markdown",
   "id": "53b5ae10-14f8-4548-87be-7acdb5b2060a",
   "metadata": {},
   "source": [
    "### Sample/save recent 10K datapoints for portfolio selection set"
   ]
  },
  {
   "cell_type": "code",
   "execution_count": 7,
   "id": "249c0ff3-c6ee-45d3-ab08-4ec39a275785",
   "metadata": {},
   "outputs": [],
   "source": [
    "test_set = loans.tail(n = 10000)"
   ]
  },
  {
   "cell_type": "code",
   "execution_count": 8,
   "id": "33677275",
   "metadata": {},
   "outputs": [],
   "source": [
    "np.save(config['benchmark_testset_id'], test_set['id'].tolist())"
   ]
  },
  {
   "cell_type": "markdown",
   "id": "cf247ef7-f457-42df-8a10-bb9f4dbf2570",
   "metadata": {},
   "source": [
    "### Split Train/Test. For test set, use the 10K custom test ID's for consistent evaluation- instead of a seeded random sample."
   ]
  },
  {
   "cell_type": "code",
   "execution_count": 9,
   "id": "b6101927-d7b3-43ad-9a95-3ce3cca00e3d",
   "metadata": {},
   "outputs": [
    {
     "data": {
      "text/plain": [
       "((120000, 141), (10000, 141))"
      ]
     },
     "execution_count": 9,
     "metadata": {},
     "output_type": "execute_result"
    }
   ],
   "source": [
    "X_train, X_test, y_train, y_test, X, y = cr.split_data(loans, use_custom_set= True)\n",
    "X_train.shape, X_test.shape"
   ]
  },
  {
   "cell_type": "code",
   "execution_count": 10,
   "id": "bc75ac6f-9ab0-451f-b1fb-69f0c3d62b07",
   "metadata": {},
   "outputs": [
    {
     "data": {
      "text/plain": [
       "0    9419\n",
       "1     581\n",
       "Name: default, dtype: int64"
      ]
     },
     "execution_count": 10,
     "metadata": {},
     "output_type": "execute_result"
    }
   ],
   "source": [
    "cr.save_data(X_train, y_train)\n",
    "cr.save_data(X_test, y_test, is_train_data = False)\n",
    "y_test.value_counts()"
   ]
  },
  {
   "cell_type": "markdown",
   "id": "54e479c2-7b0a-453a-9a06-e3b0ea2ae8b6",
   "metadata": {},
   "source": [
    "### Train Pipeline"
   ]
  },
  {
   "cell_type": "code",
   "execution_count": 11,
   "id": "ddd86a89-7d09-43d3-86cb-a8eda1fe48ef",
   "metadata": {
    "tags": []
   },
   "outputs": [
    {
     "name": "stdout",
     "output_type": "stream",
     "text": [
      "Training time in seconds: 221.90713334083557\n"
     ]
    }
   ],
   "source": [
    "start = time.time()\n",
    "pipe = cr.fit(X_train, y_train)\n",
    "end = time.time()\n",
    "print('Training time in seconds:', end - start)"
   ]
  },
  {
   "cell_type": "code",
   "execution_count": 12,
   "id": "49629aff-5c36-4f47-9284-5c7eab61308b",
   "metadata": {},
   "outputs": [
    {
     "data": {
      "text/html": [
       "<style>#sk-d5c24ab9-f005-4b0e-af42-924969e0017a {color: black;background-color: white;}#sk-d5c24ab9-f005-4b0e-af42-924969e0017a pre{padding: 0;}#sk-d5c24ab9-f005-4b0e-af42-924969e0017a div.sk-toggleable {background-color: white;}#sk-d5c24ab9-f005-4b0e-af42-924969e0017a label.sk-toggleable__label {cursor: pointer;display: block;width: 100%;margin-bottom: 0;padding: 0.3em;box-sizing: border-box;text-align: center;}#sk-d5c24ab9-f005-4b0e-af42-924969e0017a label.sk-toggleable__label-arrow:before {content: \"▸\";float: left;margin-right: 0.25em;color: #696969;}#sk-d5c24ab9-f005-4b0e-af42-924969e0017a label.sk-toggleable__label-arrow:hover:before {color: black;}#sk-d5c24ab9-f005-4b0e-af42-924969e0017a div.sk-estimator:hover label.sk-toggleable__label-arrow:before {color: black;}#sk-d5c24ab9-f005-4b0e-af42-924969e0017a div.sk-toggleable__content {max-height: 0;max-width: 0;overflow: hidden;text-align: left;background-color: #f0f8ff;}#sk-d5c24ab9-f005-4b0e-af42-924969e0017a div.sk-toggleable__content pre {margin: 0.2em;color: black;border-radius: 0.25em;background-color: #f0f8ff;}#sk-d5c24ab9-f005-4b0e-af42-924969e0017a input.sk-toggleable__control:checked~div.sk-toggleable__content {max-height: 200px;max-width: 100%;overflow: auto;}#sk-d5c24ab9-f005-4b0e-af42-924969e0017a input.sk-toggleable__control:checked~label.sk-toggleable__label-arrow:before {content: \"▾\";}#sk-d5c24ab9-f005-4b0e-af42-924969e0017a div.sk-estimator input.sk-toggleable__control:checked~label.sk-toggleable__label {background-color: #d4ebff;}#sk-d5c24ab9-f005-4b0e-af42-924969e0017a div.sk-label input.sk-toggleable__control:checked~label.sk-toggleable__label {background-color: #d4ebff;}#sk-d5c24ab9-f005-4b0e-af42-924969e0017a input.sk-hidden--visually {border: 0;clip: rect(1px 1px 1px 1px);clip: rect(1px, 1px, 1px, 1px);height: 1px;margin: -1px;overflow: hidden;padding: 0;position: absolute;width: 1px;}#sk-d5c24ab9-f005-4b0e-af42-924969e0017a div.sk-estimator {font-family: monospace;background-color: #f0f8ff;border: 1px dotted black;border-radius: 0.25em;box-sizing: border-box;margin-bottom: 0.5em;}#sk-d5c24ab9-f005-4b0e-af42-924969e0017a div.sk-estimator:hover {background-color: #d4ebff;}#sk-d5c24ab9-f005-4b0e-af42-924969e0017a div.sk-parallel-item::after {content: \"\";width: 100%;border-bottom: 1px solid gray;flex-grow: 1;}#sk-d5c24ab9-f005-4b0e-af42-924969e0017a div.sk-label:hover label.sk-toggleable__label {background-color: #d4ebff;}#sk-d5c24ab9-f005-4b0e-af42-924969e0017a div.sk-serial::before {content: \"\";position: absolute;border-left: 1px solid gray;box-sizing: border-box;top: 2em;bottom: 0;left: 50%;}#sk-d5c24ab9-f005-4b0e-af42-924969e0017a div.sk-serial {display: flex;flex-direction: column;align-items: center;background-color: white;padding-right: 0.2em;padding-left: 0.2em;}#sk-d5c24ab9-f005-4b0e-af42-924969e0017a div.sk-item {z-index: 1;}#sk-d5c24ab9-f005-4b0e-af42-924969e0017a div.sk-parallel {display: flex;align-items: stretch;justify-content: center;background-color: white;}#sk-d5c24ab9-f005-4b0e-af42-924969e0017a div.sk-parallel::before {content: \"\";position: absolute;border-left: 1px solid gray;box-sizing: border-box;top: 2em;bottom: 0;left: 50%;}#sk-d5c24ab9-f005-4b0e-af42-924969e0017a div.sk-parallel-item {display: flex;flex-direction: column;position: relative;background-color: white;}#sk-d5c24ab9-f005-4b0e-af42-924969e0017a div.sk-parallel-item:first-child::after {align-self: flex-end;width: 50%;}#sk-d5c24ab9-f005-4b0e-af42-924969e0017a div.sk-parallel-item:last-child::after {align-self: flex-start;width: 50%;}#sk-d5c24ab9-f005-4b0e-af42-924969e0017a div.sk-parallel-item:only-child::after {width: 0;}#sk-d5c24ab9-f005-4b0e-af42-924969e0017a div.sk-dashed-wrapped {border: 1px dashed gray;margin: 0 0.4em 0.5em 0.4em;box-sizing: border-box;padding-bottom: 0.4em;background-color: white;position: relative;}#sk-d5c24ab9-f005-4b0e-af42-924969e0017a div.sk-label label {font-family: monospace;font-weight: bold;background-color: white;display: inline-block;line-height: 1.2em;}#sk-d5c24ab9-f005-4b0e-af42-924969e0017a div.sk-label-container {position: relative;z-index: 2;text-align: center;}#sk-d5c24ab9-f005-4b0e-af42-924969e0017a div.sk-container {/* jupyter's `normalize.less` sets `[hidden] { display: none; }` but bootstrap.min.css set `[hidden] { display: none !important; }` so we also need the `!important` here to be able to override the default hidden behavior on the sphinx rendered scikit-learn.org. See: https://github.com/scikit-learn/scikit-learn/issues/21755 */display: inline-block !important;position: relative;}#sk-d5c24ab9-f005-4b0e-af42-924969e0017a div.sk-text-repr-fallback {display: none;}</style><div id=\"sk-d5c24ab9-f005-4b0e-af42-924969e0017a\" class=\"sk-top-container\"><div class=\"sk-text-repr-fallback\"><pre>Pipeline(steps=[(&#x27;preprocessor&#x27;,\n",
       "                 ColumnTransformer(transformers=[(&#x27;Num&#x27;,\n",
       "                                                  Pipeline(steps=[(&#x27;Average &#x27;\n",
       "                                                                   &#x27;Fico&#x27;,\n",
       "                                                                   FicoCombiner()),\n",
       "                                                                  (&#x27;Format &#x27;\n",
       "                                                                   &#x27;Strings&#x27;,\n",
       "                                                                   StringFormatter()),\n",
       "                                                                  (&#x27;Mean &#x27;\n",
       "                                                                   &#x27;Impute&#x27;,\n",
       "                                                                   SimpleImputer())]),\n",
       "                                                  [&#x27;acc_now_delinq&#x27;,\n",
       "                                                   &#x27;acc_open_past_24mths&#x27;,\n",
       "                                                   &#x27;all_util&#x27;, &#x27;annual_inc&#x27;,\n",
       "                                                   &#x27;annual_inc_joint&#x27;,\n",
       "                                                   &#x27;avg_cur_bal&#x27;,\n",
       "                                                   &#x27;bc_open_to_buy&#x27;, &#x27;bc_util&#x27;,\n",
       "                                                   &#x27;collections_12_mths_ex_med&#x27;,\n",
       "                                                   &#x27;de...\n",
       "                                                  [&#x27;last_credit_pull_d&#x27;])])),\n",
       "                (&#x27;Robust Scaler&#x27;, RobustScaler()),\n",
       "                (&#x27;power_transformer&#x27;, PowerTransformer()),\n",
       "                (&#x27;oversampler&#x27;, ADASYN(sampling_strategy=0.8)),\n",
       "                (&#x27;undersampler&#x27;, RandomUnderSampler(sampling_strategy=0.9999)),\n",
       "                (&#x27;feature_selection&#x27;,\n",
       "                 SelectFromModel(estimator=LinearSVC(C=5, dual=False,\n",
       "                                                     penalty=&#x27;l1&#x27;))),\n",
       "                (&#x27;model&#x27;,\n",
       "                 &lt;catboost.core.CatBoostClassifier object at 0x000001B36777FD00&gt;)])</pre><b>Please rerun this cell to show the HTML repr or trust the notebook.</b></div><div class=\"sk-container\" hidden><div class=\"sk-item sk-dashed-wrapped\"><div class=\"sk-label-container\"><div class=\"sk-label sk-toggleable\"><input class=\"sk-toggleable__control sk-hidden--visually\" id=\"640b40e2-f84f-4780-a0de-da498cc20d7c\" type=\"checkbox\" ><label for=\"640b40e2-f84f-4780-a0de-da498cc20d7c\" class=\"sk-toggleable__label sk-toggleable__label-arrow\">Pipeline</label><div class=\"sk-toggleable__content\"><pre>Pipeline(steps=[(&#x27;preprocessor&#x27;,\n",
       "                 ColumnTransformer(transformers=[(&#x27;Num&#x27;,\n",
       "                                                  Pipeline(steps=[(&#x27;Average &#x27;\n",
       "                                                                   &#x27;Fico&#x27;,\n",
       "                                                                   FicoCombiner()),\n",
       "                                                                  (&#x27;Format &#x27;\n",
       "                                                                   &#x27;Strings&#x27;,\n",
       "                                                                   StringFormatter()),\n",
       "                                                                  (&#x27;Mean &#x27;\n",
       "                                                                   &#x27;Impute&#x27;,\n",
       "                                                                   SimpleImputer())]),\n",
       "                                                  [&#x27;acc_now_delinq&#x27;,\n",
       "                                                   &#x27;acc_open_past_24mths&#x27;,\n",
       "                                                   &#x27;all_util&#x27;, &#x27;annual_inc&#x27;,\n",
       "                                                   &#x27;annual_inc_joint&#x27;,\n",
       "                                                   &#x27;avg_cur_bal&#x27;,\n",
       "                                                   &#x27;bc_open_to_buy&#x27;, &#x27;bc_util&#x27;,\n",
       "                                                   &#x27;collections_12_mths_ex_med&#x27;,\n",
       "                                                   &#x27;de...\n",
       "                                                  [&#x27;last_credit_pull_d&#x27;])])),\n",
       "                (&#x27;Robust Scaler&#x27;, RobustScaler()),\n",
       "                (&#x27;power_transformer&#x27;, PowerTransformer()),\n",
       "                (&#x27;oversampler&#x27;, ADASYN(sampling_strategy=0.8)),\n",
       "                (&#x27;undersampler&#x27;, RandomUnderSampler(sampling_strategy=0.9999)),\n",
       "                (&#x27;feature_selection&#x27;,\n",
       "                 SelectFromModel(estimator=LinearSVC(C=5, dual=False,\n",
       "                                                     penalty=&#x27;l1&#x27;))),\n",
       "                (&#x27;model&#x27;,\n",
       "                 &lt;catboost.core.CatBoostClassifier object at 0x000001B36777FD00&gt;)])</pre></div></div></div><div class=\"sk-serial\"><div class=\"sk-item sk-dashed-wrapped\"><div class=\"sk-label-container\"><div class=\"sk-label sk-toggleable\"><input class=\"sk-toggleable__control sk-hidden--visually\" id=\"deb7c446-8191-402d-9a66-e62a3bc0e4fe\" type=\"checkbox\" ><label for=\"deb7c446-8191-402d-9a66-e62a3bc0e4fe\" class=\"sk-toggleable__label sk-toggleable__label-arrow\">preprocessor: ColumnTransformer</label><div class=\"sk-toggleable__content\"><pre>ColumnTransformer(transformers=[(&#x27;Num&#x27;,\n",
       "                                 Pipeline(steps=[(&#x27;Average Fico&#x27;,\n",
       "                                                  FicoCombiner()),\n",
       "                                                 (&#x27;Format Strings&#x27;,\n",
       "                                                  StringFormatter()),\n",
       "                                                 (&#x27;Mean Impute&#x27;,\n",
       "                                                  SimpleImputer())]),\n",
       "                                 [&#x27;acc_now_delinq&#x27;, &#x27;acc_open_past_24mths&#x27;,\n",
       "                                  &#x27;all_util&#x27;, &#x27;annual_inc&#x27;, &#x27;annual_inc_joint&#x27;,\n",
       "                                  &#x27;avg_cur_bal&#x27;, &#x27;bc_open_to_buy&#x27;, &#x27;bc_util&#x27;,\n",
       "                                  &#x27;collections_12_mths_ex_med&#x27;, &#x27;delinq_2yrs&#x27;,\n",
       "                                  &#x27;delinq_amnt&#x27;, &#x27;dti&#x27;, &#x27;dti_jo...\n",
       "                                                  SimpleImputer(strategy=&#x27;most_frequent&#x27;)),\n",
       "                                                 (&#x27;Weight-of-Evidence Encode&#x27;,\n",
       "                                                  WOEEncoder(handle_unknown=&#x27;ignore&#x27;))]),\n",
       "                                 [&#x27;addr_state&#x27;]),\n",
       "                                (&#x27;Date&#x27;,\n",
       "                                 Pipeline(steps=[(&#x27;Extract Seasonality&#x27;,\n",
       "                                                  SeasonalityExtractor(expand_date_column=&#x27;last_credit_pull_d&#x27;,\n",
       "                                                                       expand_days=False,\n",
       "                                                                       time_features=[&#x27;day&#x27;])),\n",
       "                                                 (&#x27;Mode Impute&#x27;,\n",
       "                                                  SimpleImputer(strategy=&#x27;most_frequent&#x27;))]),\n",
       "                                 [&#x27;last_credit_pull_d&#x27;])])</pre></div></div></div><div class=\"sk-parallel\"><div class=\"sk-parallel-item\"><div class=\"sk-item\"><div class=\"sk-label-container\"><div class=\"sk-label sk-toggleable\"><input class=\"sk-toggleable__control sk-hidden--visually\" id=\"f223ed03-6b44-4897-814c-32f0159914fe\" type=\"checkbox\" ><label for=\"f223ed03-6b44-4897-814c-32f0159914fe\" class=\"sk-toggleable__label sk-toggleable__label-arrow\">Num</label><div class=\"sk-toggleable__content\"><pre>[&#x27;acc_now_delinq&#x27;, &#x27;acc_open_past_24mths&#x27;, &#x27;all_util&#x27;, &#x27;annual_inc&#x27;, &#x27;annual_inc_joint&#x27;, &#x27;avg_cur_bal&#x27;, &#x27;bc_open_to_buy&#x27;, &#x27;bc_util&#x27;, &#x27;collections_12_mths_ex_med&#x27;, &#x27;delinq_2yrs&#x27;, &#x27;delinq_amnt&#x27;, &#x27;dti&#x27;, &#x27;dti_joint&#x27;, &#x27;emp_length&#x27;, &#x27;earliest_cr_line&#x27;, &#x27;fico_range_low&#x27;, &#x27;fico_range_high&#x27;, &#x27;il_util&#x27;, &#x27;inq_fi&#x27;, &#x27;inq_last_12m&#x27;, &#x27;inq_last_6mths&#x27;, &#x27;last_credit_pull_d&#x27;, &#x27;max_bal_bc&#x27;, &#x27;mo_sin_old_il_acct&#x27;, &#x27;mo_sin_old_rev_tl_op&#x27;, &#x27;mo_sin_rcnt_rev_tl_op&#x27;, &#x27;mo_sin_rcnt_tl&#x27;, &#x27;mort_acc&#x27;, &#x27;mths_since_rcnt_il&#x27;, &#x27;mths_since_recent_bc&#x27;, &#x27;mths_since_recent_inq&#x27;, &#x27;num_accts_ever_120_pd&#x27;, &#x27;num_actv_bc_tl&#x27;, &#x27;num_actv_rev_tl&#x27;, &#x27;num_bc_sats&#x27;, &#x27;num_bc_tl&#x27;, &#x27;num_op_rev_tl&#x27;, &#x27;num_rev_accts&#x27;, &#x27;num_rev_tl_bal_gt_0&#x27;, &#x27;num_sats&#x27;, &#x27;num_tl_120dpd_2m&#x27;, &#x27;num_tl_30dpd&#x27;, &#x27;num_tl_90g_dpd_24m&#x27;, &#x27;num_tl_op_past_12m&#x27;, &#x27;open_acc&#x27;, &#x27;open_acc_6m&#x27;, &#x27;open_act_il&#x27;, &#x27;open_il_12m&#x27;, &#x27;open_il_24m&#x27;, &#x27;open_rv_12m&#x27;, &#x27;open_rv_24m&#x27;, &#x27;pct_tl_nvr_dlq&#x27;, &#x27;percent_bc_gt_75&#x27;, &#x27;pub_rec_bankruptcies&#x27;, &#x27;revol_bal&#x27;, &#x27;revol_bal_joint&#x27;, &#x27;revol_util&#x27;, &#x27;tot_coll_amt&#x27;, &#x27;tot_cur_bal&#x27;, &#x27;tot_hi_cred_lim&#x27;, &#x27;total_acc&#x27;, &#x27;total_bal_ex_mort&#x27;, &#x27;total_bal_il&#x27;, &#x27;total_bc_limit&#x27;, &#x27;total_cu_tl&#x27;, &#x27;total_il_high_credit_limit&#x27;, &#x27;total_rev_hi_lim&#x27;]</pre></div></div></div><div class=\"sk-serial\"><div class=\"sk-item\"><div class=\"sk-serial\"><div class=\"sk-item\"><div class=\"sk-estimator sk-toggleable\"><input class=\"sk-toggleable__control sk-hidden--visually\" id=\"7bd88228-0e97-4392-8563-94e66d0e7b90\" type=\"checkbox\" ><label for=\"7bd88228-0e97-4392-8563-94e66d0e7b90\" class=\"sk-toggleable__label sk-toggleable__label-arrow\">FicoCombiner</label><div class=\"sk-toggleable__content\"><pre>FicoCombiner()</pre></div></div></div><div class=\"sk-item\"><div class=\"sk-estimator sk-toggleable\"><input class=\"sk-toggleable__control sk-hidden--visually\" id=\"9dd228a7-f3f9-46e4-b1f0-fefb80489ea2\" type=\"checkbox\" ><label for=\"9dd228a7-f3f9-46e4-b1f0-fefb80489ea2\" class=\"sk-toggleable__label sk-toggleable__label-arrow\">StringFormatter</label><div class=\"sk-toggleable__content\"><pre>StringFormatter()</pre></div></div></div><div class=\"sk-item\"><div class=\"sk-estimator sk-toggleable\"><input class=\"sk-toggleable__control sk-hidden--visually\" id=\"711730ef-a432-4b6c-992d-969d06b8f262\" type=\"checkbox\" ><label for=\"711730ef-a432-4b6c-992d-969d06b8f262\" class=\"sk-toggleable__label sk-toggleable__label-arrow\">SimpleImputer</label><div class=\"sk-toggleable__content\"><pre>SimpleImputer()</pre></div></div></div></div></div></div></div></div><div class=\"sk-parallel-item\"><div class=\"sk-item\"><div class=\"sk-label-container\"><div class=\"sk-label sk-toggleable\"><input class=\"sk-toggleable__control sk-hidden--visually\" id=\"f07ddbb6-e9a2-4f58-ba0b-97b9527b259e\" type=\"checkbox\" ><label for=\"f07ddbb6-e9a2-4f58-ba0b-97b9527b259e\" class=\"sk-toggleable__label sk-toggleable__label-arrow\">Cat</label><div class=\"sk-toggleable__content\"><pre>[&#x27;application_type&#x27;, &#x27;home_ownership&#x27;]</pre></div></div></div><div class=\"sk-serial\"><div class=\"sk-item\"><div class=\"sk-serial\"><div class=\"sk-item\"><div class=\"sk-estimator sk-toggleable\"><input class=\"sk-toggleable__control sk-hidden--visually\" id=\"08351559-98eb-4b22-83e6-6f9e912d1bf6\" type=\"checkbox\" ><label for=\"08351559-98eb-4b22-83e6-6f9e912d1bf6\" class=\"sk-toggleable__label sk-toggleable__label-arrow\">CategoryMerger</label><div class=\"sk-toggleable__content\"><pre>CategoryMerger()</pre></div></div></div><div class=\"sk-item\"><div class=\"sk-estimator sk-toggleable\"><input class=\"sk-toggleable__control sk-hidden--visually\" id=\"86cfc3dd-2d2a-42b0-b0ee-cfadd44a047e\" type=\"checkbox\" ><label for=\"86cfc3dd-2d2a-42b0-b0ee-cfadd44a047e\" class=\"sk-toggleable__label sk-toggleable__label-arrow\">SimpleImputer</label><div class=\"sk-toggleable__content\"><pre>SimpleImputer(strategy=&#x27;most_frequent&#x27;)</pre></div></div></div><div class=\"sk-item\"><div class=\"sk-estimator sk-toggleable\"><input class=\"sk-toggleable__control sk-hidden--visually\" id=\"713e45ac-bb84-4b3e-94e4-951980b43600\" type=\"checkbox\" ><label for=\"713e45ac-bb84-4b3e-94e4-951980b43600\" class=\"sk-toggleable__label sk-toggleable__label-arrow\">OneHotEncoder</label><div class=\"sk-toggleable__content\"><pre>OneHotEncoder(drop=&#x27;first&#x27;, handle_unknown=&#x27;ignore&#x27;)</pre></div></div></div></div></div></div></div></div><div class=\"sk-parallel-item\"><div class=\"sk-item\"><div class=\"sk-label-container\"><div class=\"sk-label sk-toggleable\"><input class=\"sk-toggleable__control sk-hidden--visually\" id=\"69324204-fa02-43f7-a39a-e24ab2d8f071\" type=\"checkbox\" ><label for=\"69324204-fa02-43f7-a39a-e24ab2d8f071\" class=\"sk-toggleable__label sk-toggleable__label-arrow\">Hi_Cat</label><div class=\"sk-toggleable__content\"><pre>[&#x27;addr_state&#x27;]</pre></div></div></div><div class=\"sk-serial\"><div class=\"sk-item\"><div class=\"sk-serial\"><div class=\"sk-item\"><div class=\"sk-estimator sk-toggleable\"><input class=\"sk-toggleable__control sk-hidden--visually\" id=\"8805f9a3-6f4d-47c9-a86f-4a7d98c1776b\" type=\"checkbox\" ><label for=\"8805f9a3-6f4d-47c9-a86f-4a7d98c1776b\" class=\"sk-toggleable__label sk-toggleable__label-arrow\">SimpleImputer</label><div class=\"sk-toggleable__content\"><pre>SimpleImputer(strategy=&#x27;most_frequent&#x27;)</pre></div></div></div><div class=\"sk-item\"><div class=\"sk-estimator sk-toggleable\"><input class=\"sk-toggleable__control sk-hidden--visually\" id=\"bdd94813-3668-455a-b2f6-86debc20db5b\" type=\"checkbox\" ><label for=\"bdd94813-3668-455a-b2f6-86debc20db5b\" class=\"sk-toggleable__label sk-toggleable__label-arrow\">WOEEncoder</label><div class=\"sk-toggleable__content\"><pre>WOEEncoder(handle_unknown=&#x27;ignore&#x27;)</pre></div></div></div></div></div></div></div></div><div class=\"sk-parallel-item\"><div class=\"sk-item\"><div class=\"sk-label-container\"><div class=\"sk-label sk-toggleable\"><input class=\"sk-toggleable__control sk-hidden--visually\" id=\"a189ab52-1a68-45bc-b120-f705946418e7\" type=\"checkbox\" ><label for=\"a189ab52-1a68-45bc-b120-f705946418e7\" class=\"sk-toggleable__label sk-toggleable__label-arrow\">Date</label><div class=\"sk-toggleable__content\"><pre>[&#x27;last_credit_pull_d&#x27;]</pre></div></div></div><div class=\"sk-serial\"><div class=\"sk-item\"><div class=\"sk-serial\"><div class=\"sk-item\"><div class=\"sk-estimator sk-toggleable\"><input class=\"sk-toggleable__control sk-hidden--visually\" id=\"54aa226b-c969-4fd9-82d9-a38b2fa461c7\" type=\"checkbox\" ><label for=\"54aa226b-c969-4fd9-82d9-a38b2fa461c7\" class=\"sk-toggleable__label sk-toggleable__label-arrow\">SeasonalityExtractor</label><div class=\"sk-toggleable__content\"><pre>SeasonalityExtractor(expand_date_column=&#x27;last_credit_pull_d&#x27;, expand_days=False,\n",
       "                     time_features=[&#x27;day&#x27;])</pre></div></div></div><div class=\"sk-item\"><div class=\"sk-estimator sk-toggleable\"><input class=\"sk-toggleable__control sk-hidden--visually\" id=\"d55e6d3f-2344-46e3-8ad4-e4241594dd2d\" type=\"checkbox\" ><label for=\"d55e6d3f-2344-46e3-8ad4-e4241594dd2d\" class=\"sk-toggleable__label sk-toggleable__label-arrow\">SimpleImputer</label><div class=\"sk-toggleable__content\"><pre>SimpleImputer(strategy=&#x27;most_frequent&#x27;)</pre></div></div></div></div></div></div></div></div></div></div><div class=\"sk-item\"><div class=\"sk-estimator sk-toggleable\"><input class=\"sk-toggleable__control sk-hidden--visually\" id=\"b8baa8e3-5a66-4d60-9389-6c385704f7cb\" type=\"checkbox\" ><label for=\"b8baa8e3-5a66-4d60-9389-6c385704f7cb\" class=\"sk-toggleable__label sk-toggleable__label-arrow\">RobustScaler</label><div class=\"sk-toggleable__content\"><pre>RobustScaler()</pre></div></div></div><div class=\"sk-item\"><div class=\"sk-estimator sk-toggleable\"><input class=\"sk-toggleable__control sk-hidden--visually\" id=\"076d7579-89ed-48eb-ba85-b22984ca9789\" type=\"checkbox\" ><label for=\"076d7579-89ed-48eb-ba85-b22984ca9789\" class=\"sk-toggleable__label sk-toggleable__label-arrow\">PowerTransformer</label><div class=\"sk-toggleable__content\"><pre>PowerTransformer()</pre></div></div></div><div class=\"sk-item\"><div class=\"sk-estimator sk-toggleable\"><input class=\"sk-toggleable__control sk-hidden--visually\" id=\"41078785-1906-4ac3-8f2e-d5b76929930a\" type=\"checkbox\" ><label for=\"41078785-1906-4ac3-8f2e-d5b76929930a\" class=\"sk-toggleable__label sk-toggleable__label-arrow\">ADASYN</label><div class=\"sk-toggleable__content\"><pre>ADASYN(sampling_strategy=0.8)</pre></div></div></div><div class=\"sk-item\"><div class=\"sk-estimator sk-toggleable\"><input class=\"sk-toggleable__control sk-hidden--visually\" id=\"15082009-dff7-4169-87e3-40b96f516a4c\" type=\"checkbox\" ><label for=\"15082009-dff7-4169-87e3-40b96f516a4c\" class=\"sk-toggleable__label sk-toggleable__label-arrow\">RandomUnderSampler</label><div class=\"sk-toggleable__content\"><pre>RandomUnderSampler(sampling_strategy=0.9999)</pre></div></div></div><div class=\"sk-item sk-dashed-wrapped\"><div class=\"sk-label-container\"><div class=\"sk-label sk-toggleable\"><input class=\"sk-toggleable__control sk-hidden--visually\" id=\"6052eb7e-e689-4c48-9c6b-6eaf43eae3da\" type=\"checkbox\" ><label for=\"6052eb7e-e689-4c48-9c6b-6eaf43eae3da\" class=\"sk-toggleable__label sk-toggleable__label-arrow\">feature_selection: SelectFromModel</label><div class=\"sk-toggleable__content\"><pre>SelectFromModel(estimator=LinearSVC(C=5, dual=False, penalty=&#x27;l1&#x27;))</pre></div></div></div><div class=\"sk-parallel\"><div class=\"sk-parallel-item\"><div class=\"sk-item\"><div class=\"sk-serial\"><div class=\"sk-item\"><div class=\"sk-estimator sk-toggleable\"><input class=\"sk-toggleable__control sk-hidden--visually\" id=\"725bd1f8-40c6-4f72-a395-891edc4e56d3\" type=\"checkbox\" ><label for=\"725bd1f8-40c6-4f72-a395-891edc4e56d3\" class=\"sk-toggleable__label sk-toggleable__label-arrow\">LinearSVC</label><div class=\"sk-toggleable__content\"><pre>LinearSVC(C=5, dual=False, penalty=&#x27;l1&#x27;)</pre></div></div></div></div></div></div></div></div><div class=\"sk-item\"><div class=\"sk-estimator sk-toggleable\"><input class=\"sk-toggleable__control sk-hidden--visually\" id=\"187246bb-6cdb-4400-8b68-56581c6205ca\" type=\"checkbox\" ><label for=\"187246bb-6cdb-4400-8b68-56581c6205ca\" class=\"sk-toggleable__label sk-toggleable__label-arrow\">CatBoostClassifier</label><div class=\"sk-toggleable__content\"><pre>&lt;catboost.core.CatBoostClassifier object at 0x000001B36777FD00&gt;</pre></div></div></div></div></div></div></div>"
      ],
      "text/plain": [
       "Pipeline(steps=[('preprocessor',\n",
       "                 ColumnTransformer(transformers=[('Num',\n",
       "                                                  Pipeline(steps=[('Average '\n",
       "                                                                   'Fico',\n",
       "                                                                   FicoCombiner()),\n",
       "                                                                  ('Format '\n",
       "                                                                   'Strings',\n",
       "                                                                   StringFormatter()),\n",
       "                                                                  ('Mean '\n",
       "                                                                   'Impute',\n",
       "                                                                   SimpleImputer())]),\n",
       "                                                  ['acc_now_delinq',\n",
       "                                                   'acc_open_past_24mths',\n",
       "                                                   'all_util', 'annual_inc',\n",
       "                                                   'annual_inc_joint',\n",
       "                                                   'avg_cur_bal',\n",
       "                                                   'bc_open_to_buy', 'bc_util',\n",
       "                                                   'collections_12_mths_ex_med',\n",
       "                                                   'de...\n",
       "                                                  ['last_credit_pull_d'])])),\n",
       "                ('Robust Scaler', RobustScaler()),\n",
       "                ('power_transformer', PowerTransformer()),\n",
       "                ('oversampler', ADASYN(sampling_strategy=0.8)),\n",
       "                ('undersampler', RandomUnderSampler(sampling_strategy=0.9999)),\n",
       "                ('feature_selection',\n",
       "                 SelectFromModel(estimator=LinearSVC(C=5, dual=False,\n",
       "                                                     penalty='l1'))),\n",
       "                ('model',\n",
       "                 <catboost.core.CatBoostClassifier object at 0x000001B36777FD00>)])"
      ]
     },
     "execution_count": 12,
     "metadata": {},
     "output_type": "execute_result"
    }
   ],
   "source": [
    "cr.draw_pipeline(pipe)"
   ]
  },
  {
   "cell_type": "code",
   "execution_count": 13,
   "id": "909bea5d-fd08-4025-9bc5-6b959076e4d1",
   "metadata": {},
   "outputs": [],
   "source": [
    "pipeline_cleaned_train = pd.DataFrame(np.concatenate([pipe[:3].transform(X_train), y_train.values.reshape(-1,1)], axis = 1), columns = np.append(pipe[:3].get_feature_names_out(), 'default'))\n",
    "# pipeline_cleaned_train.to_csv('../data/train/pipeline_cleaned_train.csv')"
   ]
  },
  {
   "cell_type": "markdown",
   "id": "89e2357b-b480-4209-b6f7-b3571b67566c",
   "metadata": {},
   "source": [
    "### Verify that class rebalancing within pipeline"
   ]
  },
  {
   "cell_type": "code",
   "execution_count": 14,
   "id": "d8a49efe-f8f3-4785-a99b-5615983f81c6",
   "metadata": {},
   "outputs": [
    {
     "name": "stdout",
     "output_type": "stream",
     "text": [
      "After oversampling: (array([0, 1], dtype=uint8), array([97538, 80250], dtype=int64))\n",
      "After undersampling (array([0, 1], dtype=uint8), array([80258, 80250], dtype=int64))\n"
     ]
    }
   ],
   "source": [
    "resampled_X, resampled_y = pipe[3].fit_resample(pipe[:3].transform(X_train), y_train)\n",
    "oversampled_counts = np.unique(resampled_y, return_counts = True)\n",
    "print('After oversampling:', oversampled_counts)\n",
    "resampled_X, resampled_y = pipe[4].fit_resample(resampled_X, resampled_y)\n",
    "undersampled_counts = np.unique(resampled_y, return_counts = True)\n",
    "print('After undersampling', undersampled_counts)"
   ]
  },
  {
   "cell_type": "markdown",
   "id": "72b48b97-9faa-4ce9-81d5-9e383ef1a6a1",
   "metadata": {},
   "source": [
    "### Training/Test AUC"
   ]
  },
  {
   "cell_type": "code",
   "execution_count": 15,
   "id": "6ab975dc-2403-411d-9f14-ee0e632facc6",
   "metadata": {},
   "outputs": [
    {
     "name": "stdout",
     "output_type": "stream",
     "text": [
      "ROC AUC: 0.796\n"
     ]
    },
    {
     "data": {
      "text/plain": [
       "0.7961552835128164"
      ]
     },
     "execution_count": 15,
     "metadata": {},
     "output_type": "execute_result"
    }
   ],
   "source": [
    "cr.evaluate_pipeline(pipe, X_train, y_train)"
   ]
  },
  {
   "cell_type": "code",
   "execution_count": 16,
   "id": "814c7685-555f-4a62-a901-17b26b8aadf2",
   "metadata": {},
   "outputs": [
    {
     "name": "stdout",
     "output_type": "stream",
     "text": [
      "ROC AUC: 0.708\n"
     ]
    },
    {
     "data": {
      "text/plain": [
       "0.708428179829871"
      ]
     },
     "execution_count": 16,
     "metadata": {},
     "output_type": "execute_result"
    }
   ],
   "source": [
    "cr.evaluate_pipeline(pipe, X_test, y_test)"
   ]
  },
  {
   "cell_type": "markdown",
   "id": "74f9dda0-304e-4998-98fe-8f80e7e64f28",
   "metadata": {},
   "source": [
    "### Training/Test Accuracy"
   ]
  },
  {
   "cell_type": "code",
   "execution_count": 17,
   "id": "2f1d65cc-7280-4b66-96d8-3eabbde68e7c",
   "metadata": {},
   "outputs": [
    {
     "name": "stdout",
     "output_type": "stream",
     "text": [
      "Accuracy: 0.834\n"
     ]
    },
    {
     "data": {
      "text/plain": [
       "0.8343166666666667"
      ]
     },
     "execution_count": 17,
     "metadata": {},
     "output_type": "execute_result"
    }
   ],
   "source": [
    "cr.evaluate_pipeline(pipe, X_train, y_train, 'accuracy')"
   ]
  },
  {
   "cell_type": "code",
   "execution_count": 18,
   "id": "89728b1d-e3c2-4e95-8c5d-c6b5b8365830",
   "metadata": {},
   "outputs": [
    {
     "name": "stdout",
     "output_type": "stream",
     "text": [
      "Accuracy: 0.927\n"
     ]
    },
    {
     "data": {
      "text/plain": [
       "0.9269"
      ]
     },
     "execution_count": 18,
     "metadata": {},
     "output_type": "execute_result"
    }
   ],
   "source": [
    "cr.evaluate_pipeline(pipe, X_test, y_test, 'accuracy')"
   ]
  },
  {
   "cell_type": "markdown",
   "id": "989ecc05-8783-458f-aed4-54f05668b12c",
   "metadata": {},
   "source": [
    "### Save pipeline into directory"
   ]
  },
  {
   "cell_type": "code",
   "execution_count": 19,
   "id": "21c22db1-9017-4285-9ad2-f27fc4797e57",
   "metadata": {},
   "outputs": [],
   "source": [
    "cr.save_pipeline(pipe)"
   ]
  }
 ],
 "metadata": {
  "kernelspec": {
   "display_name": "Python 3 (ipykernel)",
   "language": "python",
   "name": "python3"
  },
  "language_info": {
   "codemirror_mode": {
    "name": "ipython",
    "version": 3
   },
   "file_extension": ".py",
   "mimetype": "text/x-python",
   "name": "python",
   "nbconvert_exporter": "python",
   "pygments_lexer": "ipython3",
   "version": "3.8.13"
  },
  "vscode": {
   "interpreter": {
    "hash": "84a828a063a2330c46d3780892ffe55707f79e78f85512bb5fa5002a682e6618"
   }
  }
 },
 "nbformat": 4,
 "nbformat_minor": 5
}
